{
 "cells": [
  {
   "cell_type": "code",
   "execution_count": 48,
   "id": "6ef7c831",
   "metadata": {},
   "outputs": [],
   "source": [
    "from langgraph.graph import StateGraph, START, END\n",
    "from langgraph.graph.message import add_messages\n",
    "from langchain_groq import ChatGroq\n",
    "from typing import Annotated, TypedDict\n",
    "from langchain_core.messages import BaseMessage, HumanMessage\n",
    "from langgraph.checkpoint.memory import MemorySaver\n",
    "import os\n",
    "from dotenv import load_dotenv"
   ]
  },
  {
   "cell_type": "code",
   "execution_count": 49,
   "id": "e1147eee",
   "metadata": {},
   "outputs": [
    {
     "data": {
      "text/plain": [
       "True"
      ]
     },
     "execution_count": 49,
     "metadata": {},
     "output_type": "execute_result"
    }
   ],
   "source": [
    "load_dotenv()"
   ]
  },
  {
   "cell_type": "code",
   "execution_count": 50,
   "id": "88618414",
   "metadata": {},
   "outputs": [],
   "source": [
    "GROQ_API_KEY = os.environ.get('GROQ_API_KEY')"
   ]
  },
  {
   "cell_type": "code",
   "execution_count": 51,
   "id": "b39b9509",
   "metadata": {},
   "outputs": [],
   "source": [
    "model = ChatGroq(model=\"llama-3.3-70b-versatile\")"
   ]
  },
  {
   "cell_type": "code",
   "execution_count": 52,
   "id": "d37dbe5f",
   "metadata": {},
   "outputs": [],
   "source": [
    "class ChatState(TypedDict):\n",
    "    \n",
    "    messages: Annotated[list[BaseMessage], add_messages]"
   ]
  },
  {
   "cell_type": "code",
   "execution_count": 53,
   "id": "9ab1a38f",
   "metadata": {},
   "outputs": [],
   "source": [
    "def chat_node(state: ChatState):\n",
    "    \n",
    "    # take user query from the state\n",
    "    messages = state['messages']\n",
    "    \n",
    "    # send the query to the model\n",
    "    response = model.invoke(messages)\n",
    "    \n",
    "    # add the model response to the state\n",
    "    return {'messages': [response]}"
   ]
  },
  {
   "cell_type": "code",
   "execution_count": 54,
   "id": "0b01e453",
   "metadata": {},
   "outputs": [],
   "source": [
    "checkpointer = MemorySaver()\n",
    "\n",
    "graph = StateGraph(ChatState)\n",
    "\n",
    "graph.add_node('chat_node', chat_node)\n",
    "\n",
    "graph.add_edge(START, 'chat_node')\n",
    "graph.add_edge('chat_node', END)\n",
    "\n",
    "workflow = graph.compile(checkpointer=checkpointer)"
   ]
  },
  {
   "cell_type": "code",
   "execution_count": 55,
   "id": "93b7cc47",
   "metadata": {},
   "outputs": [
    {
     "data": {
      "image/png": "[encoded data removed]",
      "text/plain": [
       "<langgraph.graph.state.CompiledStateGraph object at 0x00000184B23A6550>"
      ]
     },
     "execution_count": 55,
     "metadata": {},
     "output_type": "execute_result"
    }
   ],
   "source": [
    "workflow"
   ]
  },
  {
   "cell_type": "code",
   "execution_count": 68,
   "id": "df9cf610",
   "metadata": {},
   "outputs": [],
   "source": [
    "thread_id = '1'\n",
    "\n",
    "initial_state = {\n",
    "    \"messages\": [HumanMessage(content=\"Hello, how are you?\")]\n",
    "}\n",
    "\n",
    "config = {'configurable': {'thread_id': thread_id}}\n",
    "\n",
    "result = workflow.invoke(initial_state, config=config)"
   ]
  },
  {
   "cell_type": "code",
   "execution_count": 69,
   "id": "003254d3",
   "metadata": {},
   "outputs": [
    {
     "data": {
      "text/plain": [
       "\"Hello once more, Hamza! I'm still doing well, thanks for asking. It's nice to see you're saying hello again. Is there something on your mind that you'd like to talk about, or would you like to play a game or have some fun? I'm all ears (or rather, all text)!\""
      ]
     },
     "execution_count": 69,
     "metadata": {},
     "output_type": "execute_result"
    }
   ],
   "source": [
    "result['messages'][-1].content"
   ]
  },
  {
   "cell_type": "code",
   "execution_count": 58,
   "id": "4b82c1db",
   "metadata": {},
   "outputs": [
    {
     "name": "stdout",
     "output_type": "stream",
     "text": [
      "User: add 100 to 300\n",
      "Chatbot: 100 + 300 = 400\n",
      "User: now add 200 to result\n",
      "Chatbot: We had 400, and now we're adding 200:\n",
      "\n",
      "400 + 200 = 600\n",
      "User: bye\n",
      "Exiting the chatbot.\n"
     ]
    }
   ],
   "source": [
    "thread_id = '1'\n",
    "\n",
    "while True:\n",
    "    \n",
    "    user_input = input(\"You: \")\n",
    "    \n",
    "    print('User:', user_input)\n",
    "    \n",
    "    if user_input.strip().lower() in ['exit', 'quit', 'bye']:\n",
    "        print(\"Exiting the chatbot.\")\n",
    "        break\n",
    "    \n",
    "    initial_state = {\n",
    "        \"messages\": [HumanMessage(content=user_input)]\n",
    "    }\n",
    "    \n",
    "    config = {'configurable': {'thread_id': thread_id}}\n",
    "    \n",
    "    result = workflow.invoke({'messages': [HumanMessage(content=user_input)]}, config=config)\n",
    "    \n",
    "    print(\"Chatbot:\", result['messages'][-1].content)"
   ]
  },
  {
   "cell_type": "code",
   "execution_count": 59,
   "id": "7af068e5",
   "metadata": {},
   "outputs": [
    {
     "data": {
      "text/plain": [
       "StateSnapshot(values={'messages': [HumanMessage(content='my name is hamza', additional_kwargs={}, response_metadata={}, id='628b6985-cd0a-4a07-bf59-899f9727d7cb'), AIMessage(content='Nice to meet you, Hamza! How are you doing today? Is there something I can help you with or would you like to chat?', additional_kwargs={}, response_metadata={'token_usage': {'completion_tokens': 30, 'prompt_tokens': 40, 'total_tokens': 70, 'completion_time': 0.054814234, 'prompt_time': 0.001715402, 'queue_time': 0.092304424, 'total_time': 0.056529636}, 'model_name': 'llama-3.3-70b-versatile', 'system_fingerprint': 'fp_3f3b593e33', 'finish_reason': 'stop', 'logprobs': None}, id='run--431ea87d-7a40-4772-bc9e-3a6d06e802d6-0', usage_metadata={'input_tokens': 40, 'output_tokens': 30, 'total_tokens': 70}), HumanMessage(content='what is my name', additional_kwargs={}, response_metadata={}, id='2a9920bf-b74d-432b-b559-1c5bef500a5c'), AIMessage(content='Your name is Hamza!', additional_kwargs={}, response_metadata={'token_usage': {'completion_tokens': 7, 'prompt_tokens': 83, 'total_tokens': 90, 'completion_time': 0.018895771, 'prompt_time': 0.004251976, 'queue_time': 0.09117215199999999, 'total_time': 0.023147747}, 'model_name': 'llama-3.3-70b-versatile', 'system_fingerprint': 'fp_9a8b91ba77', 'finish_reason': 'stop', 'logprobs': None}, id='run--6a5d6b66-8899-436b-ab37-70d9a11c8ec1-0', usage_metadata={'input_tokens': 83, 'output_tokens': 7, 'total_tokens': 90}), HumanMessage(content='add 10 to 10', additional_kwargs={}, response_metadata={}, id='238010ab-7347-4e44-9bba-9cf1800d27f8'), AIMessage(content='10 + 10 = 20', additional_kwargs={}, response_metadata={'token_usage': {'completion_tokens': 8, 'prompt_tokens': 105, 'total_tokens': 113, 'completion_time': 0.012338944, 'prompt_time': 0.005359551, 'queue_time': 0.091438585, 'total_time': 0.017698495}, 'model_name': 'llama-3.3-70b-versatile', 'system_fingerprint': 'fp_3f3b593e33', 'finish_reason': 'stop', 'logprobs': None}, id='run--cdcb1859-954e-486e-bb1e-60a81664e18e-0', usage_metadata={'input_tokens': 105, 'output_tokens': 8, 'total_tokens': 113}), HumanMessage(content='', additional_kwargs={}, response_metadata={}, id='7f84ba15-71ce-4fbb-909c-1e1ef2c3c703'), AIMessage(content=\"It seems like you didn't type anything. Is there something I can help you with, Hamza?\", additional_kwargs={}, response_metadata={'token_usage': {'completion_tokens': 22, 'prompt_tokens': 122, 'total_tokens': 144, 'completion_time': 0.065982258, 'prompt_time': 0.005907084, 'queue_time': 0.09843243900000001, 'total_time': 0.071889342}, 'model_name': 'llama-3.3-70b-versatile', 'system_fingerprint': 'fp_6507bcfb6f', 'finish_reason': 'stop', 'logprobs': None}, id='run--fa4fd985-b1ad-4efe-a9a8-7f621a49bb4a-0', usage_metadata={'input_tokens': 122, 'output_tokens': 22, 'total_tokens': 144}), HumanMessage(content='add 100 to 300', additional_kwargs={}, response_metadata={}, id='fd275ea5-9688-4280-a037-4b4c870dfa7a'), AIMessage(content='100 + 300 = 400', additional_kwargs={}, response_metadata={'token_usage': {'completion_tokens': 8, 'prompt_tokens': 159, 'total_tokens': 167, 'completion_time': 0.020764398, 'prompt_time': 0.008040208, 'queue_time': 0.10029689, 'total_time': 0.028804606}, 'model_name': 'llama-3.3-70b-versatile', 'system_fingerprint': 'fp_9a8b91ba77', 'finish_reason': 'stop', 'logprobs': None}, id='run--9d1a8185-bfea-4ae5-8990-74956bd1c177-0', usage_metadata={'input_tokens': 159, 'output_tokens': 8, 'total_tokens': 167}), HumanMessage(content='now add 200 to result', additional_kwargs={}, response_metadata={}, id='d9ae0b28-2886-44c6-80fd-ee0e70164bd1'), AIMessage(content=\"We had 400, and now we're adding 200:\\n\\n400 + 200 = 600\", additional_kwargs={}, response_metadata={'token_usage': {'completion_tokens': 21, 'prompt_tokens': 182, 'total_tokens': 203, 'completion_time': 0.066831805, 'prompt_time': 0.009043376, 'queue_time': 0.10430645399999999, 'total_time': 0.075875181}, 'model_name': 'llama-3.3-70b-versatile', 'system_fingerprint': 'fp_9a8b91ba77', 'finish_reason': 'stop', 'logprobs': None}, id='run--32e20954-d2d2-430f-bc32-0ed686a631dc-0', usage_metadata={'input_tokens': 182, 'output_tokens': 21, 'total_tokens': 203})]}, next=(), config={'configurable': {'thread_id': '1', 'checkpoint_ns': '', 'checkpoint_id': '1f06a00c-9a21-6948-8010-3bd9fb1c3028'}}, metadata={'source': 'loop', 'step': 16, 'parents': {}, 'thread_id': '1'}, created_at='2025-07-26T09:13:26.387335+00:00', parent_config={'configurable': {'thread_id': '1', 'checkpoint_ns': '', 'checkpoint_id': '1f06a00c-92b0-618f-800f-b6eb52aecd0a'}}, tasks=(), interrupts=())"
      ]
     },
     "execution_count": 59,
     "metadata": {},
     "output_type": "execute_result"
    }
   ],
   "source": [
    "workflow.get_state(config=config)"
   ]
  },
  {
   "cell_type": "code",
   "execution_count": null,
   "id": "bcc3285b",
   "metadata": {},
   "outputs": [],
   "source": []
  },
  {
   "cell_type": "code",
   "execution_count": null,
   "id": "5f520f84",
   "metadata": {},
   "outputs": [],
   "source": []
  },
  {
   "cell_type": "code",
   "execution_count": null,
   "id": "a2ee71e3",
   "metadata": {},
   "outputs": [],
   "source": []
  },
  {
   "cell_type": "code",
   "execution_count": null,
   "id": "f5e634e1",
   "metadata": {},
   "outputs": [],
   "source": []
  },
  {
   "cell_type": "code",
   "execution_count": null,
   "id": "3a6b8328",
   "metadata": {},
   "outputs": [],
   "source": []
  },
  {
   "cell_type": "code",
   "execution_count": null,
   "id": "acb3a63f",
   "metadata": {},
   "outputs": [],
   "source": []
  },
  {
   "cell_type": "code",
   "execution_count": null,
   "id": "7cec2ad1",
   "metadata": {},
   "outputs": [],
   "source": []
  },
  {
   "cell_type": "code",
   "execution_count": null,
   "id": "e3ce9e5a",
   "metadata": {},
   "outputs": [],
   "source": []
  },
  {
   "cell_type": "code",
   "execution_count": null,
   "id": "47408730",
   "metadata": {},
   "outputs": [],
   "source": []
  },
  {
   "cell_type": "code",
   "execution_count": null,
   "id": "3fcf8491",
   "metadata": {},
   "outputs": [],
   "source": []
  },
  {
   "cell_type": "code",
   "execution_count": null,
   "id": "d7017e07",
   "metadata": {},
   "outputs": [],
   "source": []
  },
  {
   "cell_type": "code",
   "execution_count": null,
   "id": "036d845a",
   "metadata": {},
   "outputs": [],
   "source": []
  },
  {
   "cell_type": "code",
   "execution_count": null,
   "id": "30c82539",
   "metadata": {},
   "outputs": [],
   "source": []
  },
  {
   "cell_type": "code",
   "execution_count": null,
   "id": "5eccd6dc",
   "metadata": {},
   "outputs": [],
   "source": []
  }
 ],
 "metadata": {
  "kernelspec": {
   "display_name": "Python 3",
   "language": "python",
   "name": "python3"
  },
  "language_info": {
   "codemirror_mode": {
    "name": "ipython",
    "version": 3
   },
   "file_extension": ".py",
   "mimetype": "text/x-python",
   "name": "python",
   "nbconvert_exporter": "python",
   "pygments_lexer": "ipython3",
   "version": "3.11.9"
  }
 },
 "nbformat": 4,
 "nbformat_minor": 5
}
