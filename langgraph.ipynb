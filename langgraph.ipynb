{
 "cells": [
  {
   "cell_type": "code",
   "execution_count": 34,
   "id": "dd20ef6b",
   "metadata": {},
   "outputs": [],
   "source": [
    "# ---------- 1. Imports ----------\n",
    "from typing import TypedDict, Optional\n",
    "from langgraph.graph import StateGraph\n",
    "from langchain_core.runnables import RunnableLambda\n",
    "from langchain.agents import Tool, initialize_agent\n",
    "from langchain.agents.agent_types import AgentType\n",
    "from langchain_groq import ChatGroq"
   ]
  },
  {
   "cell_type": "code",
   "execution_count": 44,
   "id": "f71f64b3",
   "metadata": {},
   "outputs": [],
   "source": [
    "# ---------- 2. State schema ----------\n",
    "class AgentState(TypedDict):\n",
    "    input: str                 # user question\n",
    "    response: Optional[str]    # final answer"
   ]
  },
  {
   "cell_type": "code",
   "execution_count": 45,
   "id": "ceeeacea",
   "metadata": {},
   "outputs": [],
   "source": [
    "# ---------- 3. Tools ----------\n",
    "tools = [\n",
    "    Tool(name=\"get_time\",\n",
    "         func=lambda _: \"12:00 PM\",\n",
    "         description=\"Return the current time\"),\n",
    "    Tool(name=\"get_weather\",\n",
    "         func=lambda _: \"Sunny\",\n",
    "         description=\"Return today's weather\"),\n",
    "]"
   ]
  },
  {
   "cell_type": "code",
   "execution_count": null,
   "id": "3da6da87",
   "metadata": {},
   "outputs": [],
   "source": [
    "# ---------- 4. LLM + Agent ----------\n",
    "llm = ChatGroq(model=\"llama-3.3-70b-versatile\", api_key=\"GROQ_API_KEY\")\n",
    "\n",
    "agent = initialize_agent(\n",
    "    tools,\n",
    "    llm,\n",
    "    agent=AgentType.ZERO_SHOT_REACT_DESCRIPTION,\n",
    "    verbose=False\n",
    ")"
   ]
  },
  {
   "cell_type": "code",
   "execution_count": 47,
   "id": "42dfe133",
   "metadata": {},
   "outputs": [],
   "source": [
    "# ---------- 5. Node functions ----------\n",
    "def agent_node(state: AgentState) -> AgentState:\n",
    "    \"\"\"Ask the LLM what to do next (it chooses a tool or gives a direct answer).\"\"\"\n",
    "    result = agent.invoke({\"input\": state[\"input\"]})\n",
    "    # result[\"output\"] holds the agent’s spoken answer\n",
    "    state[\"agent_output\"] = result[\"output\"]\n",
    "    return state\n",
    "\n",
    "def branch_key(state: AgentState) -> str:\n",
    "    \"\"\"Decide which tool node to visit based on the user's input.\"\"\"\n",
    "    text = state[\"input\"].lower()\n",
    "    return \"get_time\" if \"time\" in text else \"get_weather\"\n",
    "\n",
    "def get_time_node(state: AgentState) -> AgentState:\n",
    "    state[\"response\"] = \"🕒 \" + tools[0].func(None)\n",
    "    return state\n",
    "\n",
    "def get_weather_node(state: AgentState) -> AgentState:\n",
    "    state[\"response\"] = \"🌤️ \" + tools[1].func(None)\n",
    "    return state\n",
    "\n",
    "def end_node(state: AgentState) -> AgentState:\n",
    "    return state"
   ]
  },
  {
   "cell_type": "code",
   "execution_count": 48,
   "id": "0ff6b224",
   "metadata": {},
   "outputs": [
    {
     "data": {
      "text/plain": [
       "<langgraph.graph.state.StateGraph at 0x12a8c91ffd0>"
      ]
     },
     "execution_count": 48,
     "metadata": {},
     "output_type": "execute_result"
    }
   ],
   "source": [
    "# ---------- 6. Build the LangGraph ----------\n",
    "builder = StateGraph(state_schema=AgentState)\n",
    "\n",
    "builder.add_node(\"agent\",       RunnableLambda(agent_node))\n",
    "builder.add_node(\"get_time\",    RunnableLambda(get_time_node))\n",
    "builder.add_node(\"get_weather\", RunnableLambda(get_weather_node))\n",
    "builder.add_node(\"end\",         RunnableLambda(end_node))\n",
    "\n",
    "builder.set_entry_point(\"agent\")"
   ]
  },
  {
   "cell_type": "code",
   "execution_count": 49,
   "id": "21c25a38",
   "metadata": {},
   "outputs": [
    {
     "data": {
      "text/plain": [
       "<langgraph.graph.state.StateGraph at 0x12a8c91ffd0>"
      ]
     },
     "execution_count": 49,
     "metadata": {},
     "output_type": "execute_result"
    }
   ],
   "source": [
    "# conditional branch straight from agent → (tool)\n",
    "builder.add_conditional_edges(\n",
    "    \"agent\",\n",
    "    RunnableLambda(branch_key),      # how to pick the path\n",
    "    {\n",
    "        \"get_time\":    \"get_time\",\n",
    "        \"get_weather\": \"get_weather\",\n",
    "    },\n",
    ")"
   ]
  },
  {
   "cell_type": "code",
   "execution_count": 50,
   "id": "a0412f8b",
   "metadata": {},
   "outputs": [],
   "source": [
    "# each tool → end\n",
    "builder.add_edge(\"get_time\",    \"end\")\n",
    "builder.add_edge(\"get_weather\", \"end\")\n",
    "\n",
    "graph = builder.compile()"
   ]
  },
  {
   "cell_type": "code",
   "execution_count": 51,
   "id": "7728fead",
   "metadata": {},
   "outputs": [
    {
     "name": "stdout",
     "output_type": "stream",
     "text": [
      "Q: What's the weather in pakistan?\n",
      "A: 🌤️ Sunny\n",
      "\n",
      "Q: culture in pakistan\n",
      "A: 🌤️ Sunny\n",
      "\n"
     ]
    }
   ],
   "source": [
    "# ---------- 7. Run ----------\n",
    "if __name__ == \"__main__\":\n",
    "    for question in [\"What's the weather in pakistan?\", \"culture in pakistan\"]:\n",
    "        result = graph.invoke({\"input\": question})\n",
    "        print(f\"Q: {question}\\nA: {result['response']}\\n\")\n"
   ]
  },
  {
   "cell_type": "code",
   "execution_count": null,
   "id": "74b6f83e",
   "metadata": {},
   "outputs": [],
   "source": []
  }
 ],
 "metadata": {
  "kernelspec": {
   "display_name": "Python 3",
   "language": "python",
   "name": "python3"
  },
  "language_info": {
   "codemirror_mode": {
    "name": "ipython",
    "version": 3
   },
   "file_extension": ".py",
   "mimetype": "text/x-python",
   "name": "python",
   "nbconvert_exporter": "python",
   "pygments_lexer": "ipython3",
   "version": "3.11.9"
  }
 },
 "nbformat": 4,
 "nbformat_minor": 5
}
