{
 "cells": [
  {
   "cell_type": "code",
   "execution_count": 30,
   "id": "261573ec",
   "metadata": {},
   "outputs": [],
   "source": [
    "from langgraph.graph import StateGraph, START, END\n",
    "from langchain_groq import ChatGroq\n",
    "from dotenv import load_dotenv\n",
    "from typing import TypedDict\n",
    "import os\n",
    "from langgraph.checkpoint.memory import InMemorySaver"
   ]
  },
  {
   "cell_type": "code",
   "execution_count": 31,
   "id": "5ceaea6b",
   "metadata": {},
   "outputs": [
    {
     "data": {
      "text/plain": [
       "True"
      ]
     },
     "execution_count": 31,
     "metadata": {},
     "output_type": "execute_result"
    }
   ],
   "source": [
    "load_dotenv()"
   ]
  },
  {
   "cell_type": "code",
   "execution_count": 32,
   "id": "53f616df",
   "metadata": {},
   "outputs": [],
   "source": [
    "GROQ_API_KEY = os.environ.get('GROQ_API_KEY')"
   ]
  },
  {
   "cell_type": "code",
   "execution_count": 33,
   "id": "742bd0b4",
   "metadata": {},
   "outputs": [],
   "source": [
    "llm_model = ChatGroq(model=\"llama-3.3-70b-versatile\")"
   ]
  },
  {
   "cell_type": "code",
   "execution_count": 34,
   "id": "a6f253b4",
   "metadata": {},
   "outputs": [],
   "source": [
    "class JokeState(TypedDict):\n",
    "\n",
    "    topic: str\n",
    "    joke: str\n",
    "    explanation: str\n"
   ]
  },
  {
   "cell_type": "code",
   "execution_count": 35,
   "id": "b130b8d9",
   "metadata": {},
   "outputs": [],
   "source": [
    "def generate_joke(state: JokeState) -> JokeState:\n",
    "    \n",
    "    topic = state['topic']\n",
    "    \n",
    "    prompt = f\"Generate a joke on the topic {topic}\"\n",
    "    response = llm_model.invoke(prompt).content\n",
    "    \n",
    "    return {'joke': response}"
   ]
  },
  {
   "cell_type": "code",
   "execution_count": 36,
   "id": "163cfeb3",
   "metadata": {},
   "outputs": [],
   "source": [
    "def evaluate_explanation(state: JokeState) -> JokeState:\n",
    "    \n",
    "    joke = state['joke']\n",
    "    \n",
    "    prompt = f\"write an explanation for the joke - {joke}\"\n",
    "    response = llm_model.invoke(prompt).content\n",
    "    \n",
    "    return {'explanation': response}"
   ]
  },
  {
   "cell_type": "code",
   "execution_count": 37,
   "id": "9afa7efc",
   "metadata": {},
   "outputs": [],
   "source": [
    "graph = StateGraph(JokeState)\n",
    "\n",
    "# nodes\n",
    "graph.add_node('generate_joke', generate_joke)\n",
    "graph.add_node('evaluate_explanation', evaluate_explanation)\n",
    "\n",
    "# edges\n",
    "graph.add_edge(START, 'generate_joke')\n",
    "graph.add_edge('generate_joke', 'evaluate_explanation')\n",
    "graph.add_edge('evaluate_explanation', END)\n",
    "\n",
    "# checkpointing\n",
    "checkpointer = InMemorySaver()\n",
    "\n",
    "workflow = graph.compile(checkpointer=checkpointer) "
   ]
  },
  {
   "cell_type": "code",
   "execution_count": 38,
   "id": "d85a7507",
   "metadata": {},
   "outputs": [
    {
     "data": {
      "image/png": "[encoded data removed]",
      "text/plain": [
       "<langgraph.graph.state.CompiledStateGraph object at 0x000002133D231E10>"
      ]
     },
     "execution_count": 38,
     "metadata": {},
     "output_type": "execute_result"
    }
   ],
   "source": [
    "workflow"
   ]
  },
  {
   "cell_type": "code",
   "execution_count": 39,
   "id": "613c11c0",
   "metadata": {},
   "outputs": [
    {
     "data": {
      "text/plain": [
       "{'topic': 'fast food',\n",
       " 'joke': 'Why did the fast food burger go to therapy?\\n\\nBecause it was feeling a little \"well done\" under the pressure! (get it?)',\n",
       " 'explanation': 'A clever play on words. This joke is funny because it uses a common phrase \"well done\" in a double sense. \\n\\nIn one sense, \"well done\" is a phrase used to describe the level of doneness for cooked meat, particularly burgers. A \"well done\" burger is one that is cooked thoroughly, often to the point where it\\'s slightly charred or dry.\\n\\nHowever, the phrase \"well done\" can also be used to express that someone is handling a situation effectively or efficiently. For example, \"You\\'re doing well under the pressure\" means that someone is coping with stress or difficulty in a commendable way.\\n\\nIn this joke, the fast food burger goes to therapy because it\\'s \"feeling a little well done\" - implying that it\\'s not just cooked to the right level, but also feeling overwhelmed or struggling to cope with the pressure (perhaps from being a fast food burger and dealing with the stresses of the kitchen or customer expectations). The punchline relies on this wordplay to create a humorous connection between the burger\\'s literal state (being cooked) and its emotional state (feeling overwhelmed). The speaker\\'s \"get it?\" at the end is a nod to the clever use of language, inviting the listener to appreciate the joke\\'s cleverness.'}"
      ]
     },
     "execution_count": 39,
     "metadata": {},
     "output_type": "execute_result"
    }
   ],
   "source": [
    "thread_id = '1'\n",
    "\n",
    "config_1 = {'configurable': {'thread_id': thread_id}}\n",
    "workflow.invoke({'topic': 'fast food'}, config=config_1)"
   ]
  },
  {
   "cell_type": "code",
   "execution_count": 40,
   "id": "87c0084f",
   "metadata": {},
   "outputs": [
    {
     "data": {
      "text/plain": [
       "StateSnapshot(values={'topic': 'fast food', 'joke': 'Why did the fast food burger go to therapy?\\n\\nBecause it was feeling a little \"well done\" under the pressure! (get it?)', 'explanation': 'A clever play on words. This joke is funny because it uses a common phrase \"well done\" in a double sense. \\n\\nIn one sense, \"well done\" is a phrase used to describe the level of doneness for cooked meat, particularly burgers. A \"well done\" burger is one that is cooked thoroughly, often to the point where it\\'s slightly charred or dry.\\n\\nHowever, the phrase \"well done\" can also be used to express that someone is handling a situation effectively or efficiently. For example, \"You\\'re doing well under the pressure\" means that someone is coping with stress or difficulty in a commendable way.\\n\\nIn this joke, the fast food burger goes to therapy because it\\'s \"feeling a little well done\" - implying that it\\'s not just cooked to the right level, but also feeling overwhelmed or struggling to cope with the pressure (perhaps from being a fast food burger and dealing with the stresses of the kitchen or customer expectations). The punchline relies on this wordplay to create a humorous connection between the burger\\'s literal state (being cooked) and its emotional state (feeling overwhelmed). The speaker\\'s \"get it?\" at the end is a nod to the clever use of language, inviting the listener to appreciate the joke\\'s cleverness.'}, next=(), config={'configurable': {'thread_id': '1', 'checkpoint_ns': '', 'checkpoint_id': '1f06edf8-3f01-69e1-8002-77f4d262841e'}}, metadata={'source': 'loop', 'step': 2, 'parents': {}, 'thread_id': '1'}, created_at='2025-08-01T13:57:51.879830+00:00', parent_config={'configurable': {'thread_id': '1', 'checkpoint_ns': '', 'checkpoint_id': '1f06edf8-3433-6ecf-8001-061279694816'}}, tasks=(), interrupts=())"
      ]
     },
     "execution_count": 40,
     "metadata": {},
     "output_type": "execute_result"
    }
   ],
   "source": [
    "workflow.get_state(config_1)"
   ]
  },
  {
   "cell_type": "code",
   "execution_count": 41,
   "id": "c3a21349",
   "metadata": {},
   "outputs": [
    {
     "data": {
      "text/plain": [
       "[StateSnapshot(values={'topic': 'fast food', 'joke': 'Why did the fast food burger go to therapy?\\n\\nBecause it was feeling a little \"well done\" under the pressure! (get it?)', 'explanation': 'A clever play on words. This joke is funny because it uses a common phrase \"well done\" in a double sense. \\n\\nIn one sense, \"well done\" is a phrase used to describe the level of doneness for cooked meat, particularly burgers. A \"well done\" burger is one that is cooked thoroughly, often to the point where it\\'s slightly charred or dry.\\n\\nHowever, the phrase \"well done\" can also be used to express that someone is handling a situation effectively or efficiently. For example, \"You\\'re doing well under the pressure\" means that someone is coping with stress or difficulty in a commendable way.\\n\\nIn this joke, the fast food burger goes to therapy because it\\'s \"feeling a little well done\" - implying that it\\'s not just cooked to the right level, but also feeling overwhelmed or struggling to cope with the pressure (perhaps from being a fast food burger and dealing with the stresses of the kitchen or customer expectations). The punchline relies on this wordplay to create a humorous connection between the burger\\'s literal state (being cooked) and its emotional state (feeling overwhelmed). The speaker\\'s \"get it?\" at the end is a nod to the clever use of language, inviting the listener to appreciate the joke\\'s cleverness.'}, next=(), config={'configurable': {'thread_id': '1', 'checkpoint_ns': '', 'checkpoint_id': '1f06edf8-3f01-69e1-8002-77f4d262841e'}}, metadata={'source': 'loop', 'step': 2, 'parents': {}, 'thread_id': '1'}, created_at='2025-08-01T13:57:51.879830+00:00', parent_config={'configurable': {'thread_id': '1', 'checkpoint_ns': '', 'checkpoint_id': '1f06edf8-3433-6ecf-8001-061279694816'}}, tasks=(), interrupts=()),\n",
       " StateSnapshot(values={'topic': 'fast food', 'joke': 'Why did the fast food burger go to therapy?\\n\\nBecause it was feeling a little \"well done\" under the pressure! (get it?)'}, next=('evaluate_explanation',), config={'configurable': {'thread_id': '1', 'checkpoint_ns': '', 'checkpoint_id': '1f06edf8-3433-6ecf-8001-061279694816'}}, metadata={'source': 'loop', 'step': 1, 'parents': {}, 'thread_id': '1'}, created_at='2025-08-01T13:57:50.747003+00:00', parent_config={'configurable': {'thread_id': '1', 'checkpoint_ns': '', 'checkpoint_id': '1f06edf8-2fe5-6caf-8000-a744c275d04e'}}, tasks=(PregelTask(id='58d80386-8b88-0fe6-5ff4-a8b7bc6a15b8', name='evaluate_explanation', path=('__pregel_pull', 'evaluate_explanation'), error=None, interrupts=(), state=None, result={'explanation': 'A clever play on words. This joke is funny because it uses a common phrase \"well done\" in a double sense. \\n\\nIn one sense, \"well done\" is a phrase used to describe the level of doneness for cooked meat, particularly burgers. A \"well done\" burger is one that is cooked thoroughly, often to the point where it\\'s slightly charred or dry.\\n\\nHowever, the phrase \"well done\" can also be used to express that someone is handling a situation effectively or efficiently. For example, \"You\\'re doing well under the pressure\" means that someone is coping with stress or difficulty in a commendable way.\\n\\nIn this joke, the fast food burger goes to therapy because it\\'s \"feeling a little well done\" - implying that it\\'s not just cooked to the right level, but also feeling overwhelmed or struggling to cope with the pressure (perhaps from being a fast food burger and dealing with the stresses of the kitchen or customer expectations). The punchline relies on this wordplay to create a humorous connection between the burger\\'s literal state (being cooked) and its emotional state (feeling overwhelmed). The speaker\\'s \"get it?\" at the end is a nod to the clever use of language, inviting the listener to appreciate the joke\\'s cleverness.'}),), interrupts=()),\n",
       " StateSnapshot(values={'topic': 'fast food'}, next=('generate_joke',), config={'configurable': {'thread_id': '1', 'checkpoint_ns': '', 'checkpoint_id': '1f06edf8-2fe5-6caf-8000-a744c275d04e'}}, metadata={'source': 'loop', 'step': 0, 'parents': {}, 'thread_id': '1'}, created_at='2025-08-01T13:57:50.295569+00:00', parent_config={'configurable': {'thread_id': '1', 'checkpoint_ns': '', 'checkpoint_id': '1f06edf8-2fe5-6cae-bfff-dfd75344ba09'}}, tasks=(PregelTask(id='8d6659b1-5f83-c724-f4c3-a96880add565', name='generate_joke', path=('__pregel_pull', 'generate_joke'), error=None, interrupts=(), state=None, result={'joke': 'Why did the fast food burger go to therapy?\\n\\nBecause it was feeling a little \"well done\" under the pressure! (get it?)'}),), interrupts=()),\n",
       " StateSnapshot(values={}, next=('__start__',), config={'configurable': {'thread_id': '1', 'checkpoint_ns': '', 'checkpoint_id': '1f06edf8-2fe5-6cae-bfff-dfd75344ba09'}}, metadata={'source': 'input', 'step': -1, 'parents': {}, 'thread_id': '1'}, created_at='2025-08-01T13:57:50.295569+00:00', parent_config=None, tasks=(PregelTask(id='005772e0-79c4-8db5-7c5f-dabc7f7c6610', name='__start__', path=('__pregel_pull', '__start__'), error=None, interrupts=(), state=None, result={'topic': 'fast food'}),), interrupts=())]"
      ]
     },
     "execution_count": 41,
     "metadata": {},
     "output_type": "execute_result"
    }
   ],
   "source": [
    "list(workflow.get_state_history(config_1))"
   ]
  },
  {
   "cell_type": "code",
   "execution_count": 42,
   "id": "c5fcdb6b",
   "metadata": {},
   "outputs": [
    {
     "data": {
      "text/plain": [
       "{'topic': 'italian lasagna',\n",
       " 'joke': 'Why did the Italian lasagna go to therapy?\\n\\nBecause it had a lot of \"layered\" issues! (get it?)',\n",
       " 'explanation': 'A clever play on words. This joke relies on a pun to create humor. Here\\'s a breakdown of how it works:\\n\\n1. **Setup**: The joke starts by introducing an Italian lasagna as the main character, which is an unexpected twist since lasagna is a type of food, not a living being that can go to therapy.\\n2. **Punchline**: The lasagna goes to therapy because it has \"layered\" issues. This phrase has a double meaning:\\n\\t* In psychology, \"layered issues\" can refer to complex problems that have multiple underlying causes or factors, much like an onion with many layers.\\n\\t* In the context of lasagna, \"layered\" literally refers to the dish\\'s structure, which consists of multiple layers of pasta, sauce, cheese, and other ingredients.\\n3. **Wordplay**: The humor comes from the clever connection between the psychological concept of \"layered issues\" and the physical layers of the lasagna. The joke requires a quick mental shift to understand the pun, creating a sense of surprise and delight.\\n\\nThe joke relies on the listener being familiar with both the concept of layered issues in psychology and the structure of lasagna. The unexpected twist on the word \"layered\" creates a lighthearted and playful humor, making it a amusing and clever joke.'}"
      ]
     },
     "execution_count": 42,
     "metadata": {},
     "output_type": "execute_result"
    }
   ],
   "source": [
    "thread_id = '2'\n",
    "\n",
    "config_2 = {'configurable': {'thread_id': thread_id}}\n",
    "workflow.invoke({'topic': 'italian lasagna'}, config=config_2)"
   ]
  },
  {
   "cell_type": "code",
   "execution_count": 43,
   "id": "b2f0b037",
   "metadata": {},
   "outputs": [
    {
     "data": {
      "text/plain": [
       "StateSnapshot(values={'topic': 'italian lasagna', 'joke': 'Why did the Italian lasagna go to therapy?\\n\\nBecause it had a lot of \"layered\" issues! (get it?)', 'explanation': 'A clever play on words. This joke relies on a pun to create humor. Here\\'s a breakdown of how it works:\\n\\n1. **Setup**: The joke starts by introducing an Italian lasagna as the main character, which is an unexpected twist since lasagna is a type of food, not a living being that can go to therapy.\\n2. **Punchline**: The lasagna goes to therapy because it has \"layered\" issues. This phrase has a double meaning:\\n\\t* In psychology, \"layered issues\" can refer to complex problems that have multiple underlying causes or factors, much like an onion with many layers.\\n\\t* In the context of lasagna, \"layered\" literally refers to the dish\\'s structure, which consists of multiple layers of pasta, sauce, cheese, and other ingredients.\\n3. **Wordplay**: The humor comes from the clever connection between the psychological concept of \"layered issues\" and the physical layers of the lasagna. The joke requires a quick mental shift to understand the pun, creating a sense of surprise and delight.\\n\\nThe joke relies on the listener being familiar with both the concept of layered issues in psychology and the structure of lasagna. The unexpected twist on the word \"layered\" creates a lighthearted and playful humor, making it a amusing and clever joke.'}, next=(), config={'configurable': {'thread_id': '2', 'checkpoint_ns': '', 'checkpoint_id': '1f06edf8-b172-6029-8002-2042a052d20d'}}, metadata={'source': 'loop', 'step': 2, 'parents': {}, 'thread_id': '2'}, created_at='2025-08-01T13:58:03.879632+00:00', parent_config={'configurable': {'thread_id': '2', 'checkpoint_ns': '', 'checkpoint_id': '1f06edf8-a779-68f5-8001-62e88b7d2e94'}}, tasks=(), interrupts=())"
      ]
     },
     "execution_count": 43,
     "metadata": {},
     "output_type": "execute_result"
    }
   ],
   "source": [
    "workflow.get_state(config_2)"
   ]
  },
  {
   "cell_type": "code",
   "execution_count": 44,
   "id": "cc87d253",
   "metadata": {},
   "outputs": [
    {
     "data": {
      "text/plain": [
       "[StateSnapshot(values={'topic': 'italian lasagna', 'joke': 'Why did the Italian lasagna go to therapy?\\n\\nBecause it had a lot of \"layered\" issues! (get it?)', 'explanation': 'A clever play on words. This joke relies on a pun to create humor. Here\\'s a breakdown of how it works:\\n\\n1. **Setup**: The joke starts by introducing an Italian lasagna as the main character, which is an unexpected twist since lasagna is a type of food, not a living being that can go to therapy.\\n2. **Punchline**: The lasagna goes to therapy because it has \"layered\" issues. This phrase has a double meaning:\\n\\t* In psychology, \"layered issues\" can refer to complex problems that have multiple underlying causes or factors, much like an onion with many layers.\\n\\t* In the context of lasagna, \"layered\" literally refers to the dish\\'s structure, which consists of multiple layers of pasta, sauce, cheese, and other ingredients.\\n3. **Wordplay**: The humor comes from the clever connection between the psychological concept of \"layered issues\" and the physical layers of the lasagna. The joke requires a quick mental shift to understand the pun, creating a sense of surprise and delight.\\n\\nThe joke relies on the listener being familiar with both the concept of layered issues in psychology and the structure of lasagna. The unexpected twist on the word \"layered\" creates a lighthearted and playful humor, making it a amusing and clever joke.'}, next=(), config={'configurable': {'thread_id': '2', 'checkpoint_ns': '', 'checkpoint_id': '1f06edf8-b172-6029-8002-2042a052d20d'}}, metadata={'source': 'loop', 'step': 2, 'parents': {}, 'thread_id': '2'}, created_at='2025-08-01T13:58:03.879632+00:00', parent_config={'configurable': {'thread_id': '2', 'checkpoint_ns': '', 'checkpoint_id': '1f06edf8-a779-68f5-8001-62e88b7d2e94'}}, tasks=(), interrupts=()),\n",
       " StateSnapshot(values={'topic': 'italian lasagna', 'joke': 'Why did the Italian lasagna go to therapy?\\n\\nBecause it had a lot of \"layered\" issues! (get it?)'}, next=('evaluate_explanation',), config={'configurable': {'thread_id': '2', 'checkpoint_ns': '', 'checkpoint_id': '1f06edf8-a779-68f5-8001-62e88b7d2e94'}}, metadata={'source': 'loop', 'step': 1, 'parents': {}, 'thread_id': '2'}, created_at='2025-08-01T13:58:02.834149+00:00', parent_config={'configurable': {'thread_id': '2', 'checkpoint_ns': '', 'checkpoint_id': '1f06edf8-a3bf-68ee-8000-b5bd27c72b8b'}}, tasks=(PregelTask(id='4eac1d5d-6f8d-2f96-d8d0-35d164e1e596', name='evaluate_explanation', path=('__pregel_pull', 'evaluate_explanation'), error=None, interrupts=(), state=None, result={'explanation': 'A clever play on words. This joke relies on a pun to create humor. Here\\'s a breakdown of how it works:\\n\\n1. **Setup**: The joke starts by introducing an Italian lasagna as the main character, which is an unexpected twist since lasagna is a type of food, not a living being that can go to therapy.\\n2. **Punchline**: The lasagna goes to therapy because it has \"layered\" issues. This phrase has a double meaning:\\n\\t* In psychology, \"layered issues\" can refer to complex problems that have multiple underlying causes or factors, much like an onion with many layers.\\n\\t* In the context of lasagna, \"layered\" literally refers to the dish\\'s structure, which consists of multiple layers of pasta, sauce, cheese, and other ingredients.\\n3. **Wordplay**: The humor comes from the clever connection between the psychological concept of \"layered issues\" and the physical layers of the lasagna. The joke requires a quick mental shift to understand the pun, creating a sense of surprise and delight.\\n\\nThe joke relies on the listener being familiar with both the concept of layered issues in psychology and the structure of lasagna. The unexpected twist on the word \"layered\" creates a lighthearted and playful humor, making it a amusing and clever joke.'}),), interrupts=()),\n",
       " StateSnapshot(values={'topic': 'italian lasagna'}, next=('generate_joke',), config={'configurable': {'thread_id': '2', 'checkpoint_ns': '', 'checkpoint_id': '1f06edf8-a3bf-68ee-8000-b5bd27c72b8b'}}, metadata={'source': 'loop', 'step': 0, 'parents': {}, 'thread_id': '2'}, created_at='2025-08-01T13:58:02.443390+00:00', parent_config={'configurable': {'thread_id': '2', 'checkpoint_ns': '', 'checkpoint_id': '1f06edf8-a3bf-68ed-bfff-0510cb860d08'}}, tasks=(PregelTask(id='d4eb6327-3eb5-5187-58c5-fdd4bd745cb1', name='generate_joke', path=('__pregel_pull', 'generate_joke'), error=None, interrupts=(), state=None, result={'joke': 'Why did the Italian lasagna go to therapy?\\n\\nBecause it had a lot of \"layered\" issues! (get it?)'}),), interrupts=()),\n",
       " StateSnapshot(values={}, next=('__start__',), config={'configurable': {'thread_id': '2', 'checkpoint_ns': '', 'checkpoint_id': '1f06edf8-a3bf-68ed-bfff-0510cb860d08'}}, metadata={'source': 'input', 'step': -1, 'parents': {}, 'thread_id': '2'}, created_at='2025-08-01T13:58:02.443390+00:00', parent_config=None, tasks=(PregelTask(id='7f49a5c1-20b7-aeed-298b-ccf6e5361730', name='__start__', path=('__pregel_pull', '__start__'), error=None, interrupts=(), state=None, result={'topic': 'italian lasagna'}),), interrupts=())]"
      ]
     },
     "execution_count": 44,
     "metadata": {},
     "output_type": "execute_result"
    }
   ],
   "source": [
    "list(workflow.get_state_history(config_2))"
   ]
  },
  {
   "cell_type": "markdown",
   "id": "709eb1d4",
   "metadata": {},
   "source": [
    "### Time Travel in LangGraph"
   ]
  },
  {
   "cell_type": "code",
   "execution_count": 45,
   "id": "46e575f1",
   "metadata": {},
   "outputs": [
    {
     "data": {
      "text/plain": [
       "StateSnapshot(values={'topic': 'italian lasagna'}, next=('generate_joke',), config={'configurable': {'thread_id': '2', 'checkpoint_id': '1f06edf8-a3bf-68ee-8000-b5bd27c72b8b'}}, metadata={'source': 'loop', 'step': 0, 'parents': {}, 'thread_id': '2'}, created_at='2025-08-01T13:58:02.443390+00:00', parent_config={'configurable': {'thread_id': '2', 'checkpoint_ns': '', 'checkpoint_id': '1f06edf8-a3bf-68ed-bfff-0510cb860d08'}}, tasks=(PregelTask(id='d4eb6327-3eb5-5187-58c5-fdd4bd745cb1', name='generate_joke', path=('__pregel_pull', 'generate_joke'), error=None, interrupts=(), state=None, result={'joke': 'Why did the Italian lasagna go to therapy?\\n\\nBecause it had a lot of \"layered\" issues! (get it?)'}),), interrupts=())"
      ]
     },
     "execution_count": 45,
     "metadata": {},
     "output_type": "execute_result"
    }
   ],
   "source": [
    "workflow.get_state(\n",
    "    {\n",
    "        \"configurable\": {\n",
    "            \"thread_id\": \"2\", \n",
    "            \"checkpoint_id\": \"1f06edf8-a3bf-68ee-8000-b5bd27c72b8b\"\n",
    "        }\n",
    "    }\n",
    ")"
   ]
  },
  {
   "cell_type": "code",
   "execution_count": 46,
   "id": "426846e3",
   "metadata": {},
   "outputs": [
    {
     "data": {
      "text/plain": [
       "{'topic': 'italian lasagna',\n",
       " 'joke': 'Why was the Italian lasagna in therapy?\\n\\nBecause it had a lot of \"layered\" issues! (get it?)',\n",
       " 'explanation': 'The joke relies on a play on words to create humor. \"Layered issues\" has a double meaning here:\\n\\n1. **Literal meaning**: Lasagna is a type of Italian dish characterized by its layered structure, with sheets of pasta, sauce, and cheese stacked on top of each other. So, in this sense, the joke is making a literal reference to the physical composition of the lasagna.\\n\\n2. **Figurative meaning**: In psychology, \"layered issues\" is a metaphorical expression used to describe complex emotional or psychological problems that have multiple underlying causes or factors. These issues can be deeply ingrained and may require therapy to resolve. The phrase suggests that the problem is multifaceted and composed of various interconnected components, much like the layers of a lasagna.\\n\\nThe punchline \"it had a lot of \\'layered\\' issues\" is funny because it takes the literal meaning of \"layered\" (referring to the lasagna\\'s physical structure) and applies it to the figurative meaning (referring to complex emotional issues). This wordplay creates a clever and unexpected connection between the setup (the lasagna being in therapy) and the punchline, resulting in a humorous effect. The joke requires a quick mental shift to understand the dual meaning of \"layered issues,\" and the sudden realization of the wordplay creates the comedic surprise.'}"
      ]
     },
     "execution_count": 46,
     "metadata": {},
     "output_type": "execute_result"
    }
   ],
   "source": [
    "workflow.invoke(\n",
    "    None, {\n",
    "        \"configurable\": {\n",
    "            \"thread_id\": \"2\", \n",
    "            \"checkpoint_id\": \"1f06edf8-a3bf-68ee-8000-b5bd27c72b8b\"\n",
    "        }\n",
    "    }\n",
    ")"
   ]
  },
  {
   "cell_type": "code",
   "execution_count": 48,
   "id": "39750ef9",
   "metadata": {},
   "outputs": [
    {
     "data": {
      "text/plain": [
       "[StateSnapshot(values={'topic': 'italian lasagna', 'joke': 'Why was the Italian lasagna in therapy?\\n\\nBecause it had a lot of \"layered\" issues! (get it?)', 'explanation': 'The joke relies on a play on words to create humor. \"Layered issues\" has a double meaning here:\\n\\n1. **Literal meaning**: Lasagna is a type of Italian dish characterized by its layered structure, with sheets of pasta, sauce, and cheese stacked on top of each other. So, in this sense, the joke is making a literal reference to the physical composition of the lasagna.\\n\\n2. **Figurative meaning**: In psychology, \"layered issues\" is a metaphorical expression used to describe complex emotional or psychological problems that have multiple underlying causes or factors. These issues can be deeply ingrained and may require therapy to resolve. The phrase suggests that the problem is multifaceted and composed of various interconnected components, much like the layers of a lasagna.\\n\\nThe punchline \"it had a lot of \\'layered\\' issues\" is funny because it takes the literal meaning of \"layered\" (referring to the lasagna\\'s physical structure) and applies it to the figurative meaning (referring to complex emotional issues). This wordplay creates a clever and unexpected connection between the setup (the lasagna being in therapy) and the punchline, resulting in a humorous effect. The joke requires a quick mental shift to understand the dual meaning of \"layered issues,\" and the sudden realization of the wordplay creates the comedic surprise.'}, next=(), config={'configurable': {'thread_id': '2', 'checkpoint_ns': '', 'checkpoint_id': '1f06ee53-3a01-686f-8002-2833fa6fb1fd'}}, metadata={'source': 'loop', 'step': 2, 'parents': {}, 'thread_id': '2'}, created_at='2025-08-01T14:38:34.118155+00:00', parent_config={'configurable': {'thread_id': '2', 'checkpoint_ns': '', 'checkpoint_id': '1f06ee53-2957-6225-8001-5beb40c1d7f9'}}, tasks=(), interrupts=()),\n",
       " StateSnapshot(values={'topic': 'italian lasagna', 'joke': 'Why was the Italian lasagna in therapy?\\n\\nBecause it had a lot of \"layered\" issues! (get it?)'}, next=('evaluate_explanation',), config={'configurable': {'thread_id': '2', 'checkpoint_ns': '', 'checkpoint_id': '1f06ee53-2957-6225-8001-5beb40c1d7f9'}}, metadata={'source': 'loop', 'step': 1, 'parents': {}, 'thread_id': '2'}, created_at='2025-08-01T14:38:32.370640+00:00', parent_config={'configurable': {'thread_id': '2', 'checkpoint_ns': '', 'checkpoint_id': '1f06edf8-a3bf-68ee-8000-b5bd27c72b8b'}}, tasks=(PregelTask(id='bea68127-d95f-3053-0a42-d10ce60ec356', name='evaluate_explanation', path=('__pregel_pull', 'evaluate_explanation'), error=None, interrupts=(), state=None, result={'explanation': 'The joke relies on a play on words to create humor. \"Layered issues\" has a double meaning here:\\n\\n1. **Literal meaning**: Lasagna is a type of Italian dish characterized by its layered structure, with sheets of pasta, sauce, and cheese stacked on top of each other. So, in this sense, the joke is making a literal reference to the physical composition of the lasagna.\\n\\n2. **Figurative meaning**: In psychology, \"layered issues\" is a metaphorical expression used to describe complex emotional or psychological problems that have multiple underlying causes or factors. These issues can be deeply ingrained and may require therapy to resolve. The phrase suggests that the problem is multifaceted and composed of various interconnected components, much like the layers of a lasagna.\\n\\nThe punchline \"it had a lot of \\'layered\\' issues\" is funny because it takes the literal meaning of \"layered\" (referring to the lasagna\\'s physical structure) and applies it to the figurative meaning (referring to complex emotional issues). This wordplay creates a clever and unexpected connection between the setup (the lasagna being in therapy) and the punchline, resulting in a humorous effect. The joke requires a quick mental shift to understand the dual meaning of \"layered issues,\" and the sudden realization of the wordplay creates the comedic surprise.'}),), interrupts=()),\n",
       " StateSnapshot(values={'topic': 'italian lasagna', 'joke': 'Why did the Italian lasagna go to therapy?\\n\\nBecause it had a lot of \"layered\" issues! (get it?)', 'explanation': 'A clever play on words. This joke relies on a pun to create humor. Here\\'s a breakdown of how it works:\\n\\n1. **Setup**: The joke starts by introducing an Italian lasagna as the main character, which is an unexpected twist since lasagna is a type of food, not a living being that can go to therapy.\\n2. **Punchline**: The lasagna goes to therapy because it has \"layered\" issues. This phrase has a double meaning:\\n\\t* In psychology, \"layered issues\" can refer to complex problems that have multiple underlying causes or factors, much like an onion with many layers.\\n\\t* In the context of lasagna, \"layered\" literally refers to the dish\\'s structure, which consists of multiple layers of pasta, sauce, cheese, and other ingredients.\\n3. **Wordplay**: The humor comes from the clever connection between the psychological concept of \"layered issues\" and the physical layers of the lasagna. The joke requires a quick mental shift to understand the pun, creating a sense of surprise and delight.\\n\\nThe joke relies on the listener being familiar with both the concept of layered issues in psychology and the structure of lasagna. The unexpected twist on the word \"layered\" creates a lighthearted and playful humor, making it a amusing and clever joke.'}, next=(), config={'configurable': {'thread_id': '2', 'checkpoint_ns': '', 'checkpoint_id': '1f06edf8-b172-6029-8002-2042a052d20d'}}, metadata={'source': 'loop', 'step': 2, 'parents': {}, 'thread_id': '2'}, created_at='2025-08-01T13:58:03.879632+00:00', parent_config={'configurable': {'thread_id': '2', 'checkpoint_ns': '', 'checkpoint_id': '1f06edf8-a779-68f5-8001-62e88b7d2e94'}}, tasks=(), interrupts=()),\n",
       " StateSnapshot(values={'topic': 'italian lasagna', 'joke': 'Why did the Italian lasagna go to therapy?\\n\\nBecause it had a lot of \"layered\" issues! (get it?)'}, next=('evaluate_explanation',), config={'configurable': {'thread_id': '2', 'checkpoint_ns': '', 'checkpoint_id': '1f06edf8-a779-68f5-8001-62e88b7d2e94'}}, metadata={'source': 'loop', 'step': 1, 'parents': {}, 'thread_id': '2'}, created_at='2025-08-01T13:58:02.834149+00:00', parent_config={'configurable': {'thread_id': '2', 'checkpoint_ns': '', 'checkpoint_id': '1f06edf8-a3bf-68ee-8000-b5bd27c72b8b'}}, tasks=(PregelTask(id='4eac1d5d-6f8d-2f96-d8d0-35d164e1e596', name='evaluate_explanation', path=('__pregel_pull', 'evaluate_explanation'), error=None, interrupts=(), state=None, result={'explanation': 'A clever play on words. This joke relies on a pun to create humor. Here\\'s a breakdown of how it works:\\n\\n1. **Setup**: The joke starts by introducing an Italian lasagna as the main character, which is an unexpected twist since lasagna is a type of food, not a living being that can go to therapy.\\n2. **Punchline**: The lasagna goes to therapy because it has \"layered\" issues. This phrase has a double meaning:\\n\\t* In psychology, \"layered issues\" can refer to complex problems that have multiple underlying causes or factors, much like an onion with many layers.\\n\\t* In the context of lasagna, \"layered\" literally refers to the dish\\'s structure, which consists of multiple layers of pasta, sauce, cheese, and other ingredients.\\n3. **Wordplay**: The humor comes from the clever connection between the psychological concept of \"layered issues\" and the physical layers of the lasagna. The joke requires a quick mental shift to understand the pun, creating a sense of surprise and delight.\\n\\nThe joke relies on the listener being familiar with both the concept of layered issues in psychology and the structure of lasagna. The unexpected twist on the word \"layered\" creates a lighthearted and playful humor, making it a amusing and clever joke.'}),), interrupts=()),\n",
       " StateSnapshot(values={'topic': 'italian lasagna'}, next=('generate_joke',), config={'configurable': {'thread_id': '2', 'checkpoint_ns': '', 'checkpoint_id': '1f06edf8-a3bf-68ee-8000-b5bd27c72b8b'}}, metadata={'source': 'loop', 'step': 0, 'parents': {}, 'thread_id': '2'}, created_at='2025-08-01T13:58:02.443390+00:00', parent_config={'configurable': {'thread_id': '2', 'checkpoint_ns': '', 'checkpoint_id': '1f06edf8-a3bf-68ed-bfff-0510cb860d08'}}, tasks=(PregelTask(id='d4eb6327-3eb5-5187-58c5-fdd4bd745cb1', name='generate_joke', path=('__pregel_pull', 'generate_joke'), error=None, interrupts=(), state=None, result={'joke': 'Why did the Italian lasagna go to therapy?\\n\\nBecause it had a lot of \"layered\" issues! (get it?)'}),), interrupts=()),\n",
       " StateSnapshot(values={}, next=('__start__',), config={'configurable': {'thread_id': '2', 'checkpoint_ns': '', 'checkpoint_id': '1f06edf8-a3bf-68ed-bfff-0510cb860d08'}}, metadata={'source': 'input', 'step': -1, 'parents': {}, 'thread_id': '2'}, created_at='2025-08-01T13:58:02.443390+00:00', parent_config=None, tasks=(PregelTask(id='7f49a5c1-20b7-aeed-298b-ccf6e5361730', name='__start__', path=('__pregel_pull', '__start__'), error=None, interrupts=(), state=None, result={'topic': 'italian lasagna'}),), interrupts=())]"
      ]
     },
     "execution_count": 48,
     "metadata": {},
     "output_type": "execute_result"
    }
   ],
   "source": [
    "list(workflow.get_state_history(config_2))"
   ]
  },
  {
   "cell_type": "markdown",
   "metadata": {},
   "source": [
    "### Updating State"
   ]
  },
  {
   "cell_type": "code",
   "execution_count": 49,
   "id": "69f2f152",
   "metadata": {},
   "outputs": [
    {
     "data": {
      "text/plain": [
       "{'configurable': {'thread_id': '2',\n",
       "  'checkpoint_ns': '',\n",
       "  'checkpoint_id': '1f06f03d-55ce-62de-8001-739665f1def0'}}"
      ]
     },
     "execution_count": 49,
     "metadata": {},
     "output_type": "execute_result"
    }
   ],
   "source": [
    "workflow.update_state(\n",
    "    {\n",
    "        \"configurable\": {\n",
    "            \"thread_id\": \"2\", \n",
    "            \"checkpoint_id\": \"1f06edf8-a3bf-68ee-8000-b5bd27c72b8b\",\n",
    "            \"checkpoint_ns\": \"\"\n",
    "        }\n",
    "    },\n",
    "    {\n",
    "        'topic':'italian aghetti',\n",
    "    }\n",
    ")"
   ]
  },
  {
   "cell_type": "code",
   "execution_count": 50,
   "id": "05941f75",
   "metadata": {},
   "outputs": [
    {
     "data": {
      "text/plain": [
       "[StateSnapshot(values={'topic': 'italian aghetti'}, next=('generate_joke',), config={'configurable': {'thread_id': '2', 'checkpoint_ns': '', 'checkpoint_id': '1f06f03d-55ce-62de-8001-739665f1def0'}}, metadata={'source': 'update', 'step': 1, 'parents': {}, 'thread_id': '2'}, created_at='2025-08-01T18:17:50.370479+00:00', parent_config={'configurable': {'thread_id': '2', 'checkpoint_ns': '', 'checkpoint_id': '1f06edf8-a3bf-68ee-8000-b5bd27c72b8b'}}, tasks=(PregelTask(id='a2308e71-938c-06b0-bb4d-9aa4cfe470a2', name='generate_joke', path=('__pregel_pull', 'generate_joke'), error=None, interrupts=(), state=None, result=None),), interrupts=()),\n",
       " StateSnapshot(values={'topic': 'italian lasagna', 'joke': 'Why was the Italian lasagna in therapy?\\n\\nBecause it had a lot of \"layered\" issues! (get it?)', 'explanation': 'The joke relies on a play on words to create humor. \"Layered issues\" has a double meaning here:\\n\\n1. **Literal meaning**: Lasagna is a type of Italian dish characterized by its layered structure, with sheets of pasta, sauce, and cheese stacked on top of each other. So, in this sense, the joke is making a literal reference to the physical composition of the lasagna.\\n\\n2. **Figurative meaning**: In psychology, \"layered issues\" is a metaphorical expression used to describe complex emotional or psychological problems that have multiple underlying causes or factors. These issues can be deeply ingrained and may require therapy to resolve. The phrase suggests that the problem is multifaceted and composed of various interconnected components, much like the layers of a lasagna.\\n\\nThe punchline \"it had a lot of \\'layered\\' issues\" is funny because it takes the literal meaning of \"layered\" (referring to the lasagna\\'s physical structure) and applies it to the figurative meaning (referring to complex emotional issues). This wordplay creates a clever and unexpected connection between the setup (the lasagna being in therapy) and the punchline, resulting in a humorous effect. The joke requires a quick mental shift to understand the dual meaning of \"layered issues,\" and the sudden realization of the wordplay creates the comedic surprise.'}, next=(), config={'configurable': {'thread_id': '2', 'checkpoint_ns': '', 'checkpoint_id': '1f06ee53-3a01-686f-8002-2833fa6fb1fd'}}, metadata={'source': 'loop', 'step': 2, 'parents': {}, 'thread_id': '2'}, created_at='2025-08-01T14:38:34.118155+00:00', parent_config={'configurable': {'thread_id': '2', 'checkpoint_ns': '', 'checkpoint_id': '1f06ee53-2957-6225-8001-5beb40c1d7f9'}}, tasks=(), interrupts=()),\n",
       " StateSnapshot(values={'topic': 'italian lasagna', 'joke': 'Why was the Italian lasagna in therapy?\\n\\nBecause it had a lot of \"layered\" issues! (get it?)'}, next=('evaluate_explanation',), config={'configurable': {'thread_id': '2', 'checkpoint_ns': '', 'checkpoint_id': '1f06ee53-2957-6225-8001-5beb40c1d7f9'}}, metadata={'source': 'loop', 'step': 1, 'parents': {}, 'thread_id': '2'}, created_at='2025-08-01T14:38:32.370640+00:00', parent_config={'configurable': {'thread_id': '2', 'checkpoint_ns': '', 'checkpoint_id': '1f06edf8-a3bf-68ee-8000-b5bd27c72b8b'}}, tasks=(PregelTask(id='bea68127-d95f-3053-0a42-d10ce60ec356', name='evaluate_explanation', path=('__pregel_pull', 'evaluate_explanation'), error=None, interrupts=(), state=None, result={'explanation': 'The joke relies on a play on words to create humor. \"Layered issues\" has a double meaning here:\\n\\n1. **Literal meaning**: Lasagna is a type of Italian dish characterized by its layered structure, with sheets of pasta, sauce, and cheese stacked on top of each other. So, in this sense, the joke is making a literal reference to the physical composition of the lasagna.\\n\\n2. **Figurative meaning**: In psychology, \"layered issues\" is a metaphorical expression used to describe complex emotional or psychological problems that have multiple underlying causes or factors. These issues can be deeply ingrained and may require therapy to resolve. The phrase suggests that the problem is multifaceted and composed of various interconnected components, much like the layers of a lasagna.\\n\\nThe punchline \"it had a lot of \\'layered\\' issues\" is funny because it takes the literal meaning of \"layered\" (referring to the lasagna\\'s physical structure) and applies it to the figurative meaning (referring to complex emotional issues). This wordplay creates a clever and unexpected connection between the setup (the lasagna being in therapy) and the punchline, resulting in a humorous effect. The joke requires a quick mental shift to understand the dual meaning of \"layered issues,\" and the sudden realization of the wordplay creates the comedic surprise.'}),), interrupts=()),\n",
       " StateSnapshot(values={'topic': 'italian lasagna', 'joke': 'Why did the Italian lasagna go to therapy?\\n\\nBecause it had a lot of \"layered\" issues! (get it?)', 'explanation': 'A clever play on words. This joke relies on a pun to create humor. Here\\'s a breakdown of how it works:\\n\\n1. **Setup**: The joke starts by introducing an Italian lasagna as the main character, which is an unexpected twist since lasagna is a type of food, not a living being that can go to therapy.\\n2. **Punchline**: The lasagna goes to therapy because it has \"layered\" issues. This phrase has a double meaning:\\n\\t* In psychology, \"layered issues\" can refer to complex problems that have multiple underlying causes or factors, much like an onion with many layers.\\n\\t* In the context of lasagna, \"layered\" literally refers to the dish\\'s structure, which consists of multiple layers of pasta, sauce, cheese, and other ingredients.\\n3. **Wordplay**: The humor comes from the clever connection between the psychological concept of \"layered issues\" and the physical layers of the lasagna. The joke requires a quick mental shift to understand the pun, creating a sense of surprise and delight.\\n\\nThe joke relies on the listener being familiar with both the concept of layered issues in psychology and the structure of lasagna. The unexpected twist on the word \"layered\" creates a lighthearted and playful humor, making it a amusing and clever joke.'}, next=(), config={'configurable': {'thread_id': '2', 'checkpoint_ns': '', 'checkpoint_id': '1f06edf8-b172-6029-8002-2042a052d20d'}}, metadata={'source': 'loop', 'step': 2, 'parents': {}, 'thread_id': '2'}, created_at='2025-08-01T13:58:03.879632+00:00', parent_config={'configurable': {'thread_id': '2', 'checkpoint_ns': '', 'checkpoint_id': '1f06edf8-a779-68f5-8001-62e88b7d2e94'}}, tasks=(), interrupts=()),\n",
       " StateSnapshot(values={'topic': 'italian lasagna', 'joke': 'Why did the Italian lasagna go to therapy?\\n\\nBecause it had a lot of \"layered\" issues! (get it?)'}, next=('evaluate_explanation',), config={'configurable': {'thread_id': '2', 'checkpoint_ns': '', 'checkpoint_id': '1f06edf8-a779-68f5-8001-62e88b7d2e94'}}, metadata={'source': 'loop', 'step': 1, 'parents': {}, 'thread_id': '2'}, created_at='2025-08-01T13:58:02.834149+00:00', parent_config={'configurable': {'thread_id': '2', 'checkpoint_ns': '', 'checkpoint_id': '1f06edf8-a3bf-68ee-8000-b5bd27c72b8b'}}, tasks=(PregelTask(id='4eac1d5d-6f8d-2f96-d8d0-35d164e1e596', name='evaluate_explanation', path=('__pregel_pull', 'evaluate_explanation'), error=None, interrupts=(), state=None, result={'explanation': 'A clever play on words. This joke relies on a pun to create humor. Here\\'s a breakdown of how it works:\\n\\n1. **Setup**: The joke starts by introducing an Italian lasagna as the main character, which is an unexpected twist since lasagna is a type of food, not a living being that can go to therapy.\\n2. **Punchline**: The lasagna goes to therapy because it has \"layered\" issues. This phrase has a double meaning:\\n\\t* In psychology, \"layered issues\" can refer to complex problems that have multiple underlying causes or factors, much like an onion with many layers.\\n\\t* In the context of lasagna, \"layered\" literally refers to the dish\\'s structure, which consists of multiple layers of pasta, sauce, cheese, and other ingredients.\\n3. **Wordplay**: The humor comes from the clever connection between the psychological concept of \"layered issues\" and the physical layers of the lasagna. The joke requires a quick mental shift to understand the pun, creating a sense of surprise and delight.\\n\\nThe joke relies on the listener being familiar with both the concept of layered issues in psychology and the structure of lasagna. The unexpected twist on the word \"layered\" creates a lighthearted and playful humor, making it a amusing and clever joke.'}),), interrupts=()),\n",
       " StateSnapshot(values={'topic': 'italian lasagna'}, next=('generate_joke',), config={'configurable': {'thread_id': '2', 'checkpoint_ns': '', 'checkpoint_id': '1f06edf8-a3bf-68ee-8000-b5bd27c72b8b'}}, metadata={'source': 'loop', 'step': 0, 'parents': {}, 'thread_id': '2'}, created_at='2025-08-01T13:58:02.443390+00:00', parent_config={'configurable': {'thread_id': '2', 'checkpoint_ns': '', 'checkpoint_id': '1f06edf8-a3bf-68ed-bfff-0510cb860d08'}}, tasks=(PregelTask(id='d4eb6327-3eb5-5187-58c5-fdd4bd745cb1', name='generate_joke', path=('__pregel_pull', 'generate_joke'), error=None, interrupts=(), state=None, result={'joke': 'Why did the Italian lasagna go to therapy?\\n\\nBecause it had a lot of \"layered\" issues! (get it?)'}),), interrupts=()),\n",
       " StateSnapshot(values={}, next=('__start__',), config={'configurable': {'thread_id': '2', 'checkpoint_ns': '', 'checkpoint_id': '1f06edf8-a3bf-68ed-bfff-0510cb860d08'}}, metadata={'source': 'input', 'step': -1, 'parents': {}, 'thread_id': '2'}, created_at='2025-08-01T13:58:02.443390+00:00', parent_config=None, tasks=(PregelTask(id='7f49a5c1-20b7-aeed-298b-ccf6e5361730', name='__start__', path=('__pregel_pull', '__start__'), error=None, interrupts=(), state=None, result={'topic': 'italian lasagna'}),), interrupts=())]"
      ]
     },
     "execution_count": 50,
     "metadata": {},
     "output_type": "execute_result"
    }
   ],
   "source": [
    "list(workflow.get_state_history(config_2))"
   ]
  },
  {
   "cell_type": "code",
   "execution_count": 52,
   "id": "3930cd19",
   "metadata": {},
   "outputs": [
    {
     "data": {
      "text/plain": [
       "{'topic': 'italian aghetti',\n",
       " 'joke': 'Why did the Italian spaghetti refuse to get married?\\n\\nBecause it was afraid of getting tangled up in a lifelong commitment!',\n",
       " 'explanation': 'A deliciously clever joke. Let\\'s break it down:\\n\\nThe joke is a play on words, using the physical properties of spaghetti (a type of Italian noodle) to make a humorous comment on marriage. The punchline \"it was afraid of getting tangled up in a lifelong commitment\" has a double meaning:\\n\\n1. **Literal meaning**: Spaghetti is a long, thin, and flexible noodle that can easily become tangled or knotted. In this sense, the joke is saying that the spaghetti is afraid of getting physically tangled up, which is a clever and silly idea.\\n2. **Figurative meaning**: The phrase \"getting tangled up\" is also an idiom that means to become deeply involved or entangled in a complicated situation. In the context of marriage, \"a lifelong commitment\" refers to the idea that marriage is a long-term, binding agreement between two people. The joke is saying that the spaghetti is afraid of getting emotionally and committedly \"tangled up\" in a marriage, implying that it\\'s hesitant to take on the responsibilities and complexities that come with a lifelong partnership.\\n\\nThe humor comes from the unexpected twist on the usual meaning of \"getting tangled up\" and the clever use of the spaghetti\\'s physical properties to make a witty comment on marriage. It\\'s a lighthearted and playful joke that pokes fun at the idea of commitment and the potential complexities of marriage.'}"
      ]
     },
     "execution_count": 52,
     "metadata": {},
     "output_type": "execute_result"
    }
   ],
   "source": [
    "workflow.invoke(\n",
    "    None, {\n",
    "        \"configurable\": {\n",
    "            \"thread_id\": \"2\", \n",
    "            \"checkpoint_id\": \"1f06f03d-55ce-62de-8001-739665f1def0\"\n",
    "        }\n",
    "    }\n",
    ")"
   ]
  },
  {
   "cell_type": "code",
   "execution_count": null,
   "id": "1bea494f",
   "metadata": {},
   "outputs": [],
   "source": []
  }
 ],
 "metadata": {
  "kernelspec": {
   "display_name": "Python 3",
   "language": "python",
   "name": "python3"
  },
  "language_info": {
   "codemirror_mode": {
    "name": "ipython",
    "version": 3
   },
   "file_extension": ".py",
   "mimetype": "text/x-python",
   "name": "python",
   "nbconvert_exporter": "python",
   "pygments_lexer": "ipython3",
   "version": "3.11.9"
  }
 },
 "nbformat": 4,
 "nbformat_minor": 5
}
