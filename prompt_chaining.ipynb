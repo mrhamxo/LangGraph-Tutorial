{
 "cells": [
  {
   "cell_type": "code",
   "execution_count": 13,
   "id": "a66ac74d",
   "metadata": {},
   "outputs": [],
   "source": [
    "from langgraph.graph import StateGraph, START, END\n",
    "from langchain_groq import ChatGroq\n",
    "from typing import TypedDict\n",
    "from IPython.display import Image\n",
    "from dotenv import load_dotenv\n",
    "import os"
   ]
  },
  {
   "cell_type": "code",
   "execution_count": 14,
   "id": "d7e77256",
   "metadata": {},
   "outputs": [],
   "source": [
    "load_dotenv()\n",
    "GROQ_API_KEY = os.environ.get('GROQ_API_KEY')"
   ]
  },
  {
   "cell_type": "code",
   "execution_count": 15,
   "id": "3576f744",
   "metadata": {},
   "outputs": [
    {
     "data": {
      "text/plain": [
       "ChatGroq(client=<groq.resources.chat.completions.Completions object at 0x00000202151FA5D0>, async_client=<groq.resources.chat.completions.AsyncCompletions object at 0x00000202182EDC10>, model_name='llama-3.3-70b-versatile', model_kwargs={}, groq_api_key=SecretStr('**********'))"
      ]
     },
     "execution_count": 15,
     "metadata": {},
     "output_type": "execute_result"
    }
   ],
   "source": [
    "model = ChatGroq(model=\"llama-3.3-70b-versatile\")\n",
    "model"
   ]
  },
  {
   "cell_type": "code",
   "execution_count": 27,
   "id": "6863a98d",
   "metadata": {},
   "outputs": [],
   "source": [
    "class BlogState(TypedDict):\n",
    "    title: str\n",
    "    outline: str\n",
    "    content: str\n",
    "    evaluate: int"
   ]
  },
  {
   "cell_type": "code",
   "execution_count": 28,
   "id": "aae653a5",
   "metadata": {},
   "outputs": [],
   "source": [
    "def create_outline(state: BlogState) -> BlogState:\n",
    "    # fetch title\n",
    "    title = state['title']\n",
    "\n",
    "    # call llm gen outline\n",
    "    prompt = f'Generate a detailed outline for a blog on the topic - {title}'\n",
    "    outline = model.invoke(prompt).content\n",
    "\n",
    "    # update state\n",
    "    state['outline'] = outline\n",
    "\n",
    "    return state"
   ]
  },
  {
   "cell_type": "code",
   "execution_count": 29,
   "id": "f85aae84",
   "metadata": {},
   "outputs": [],
   "source": [
    "def create_blog(state: BlogState) -> BlogState:\n",
    "    title = state['title']\n",
    "    outline = state['outline']\n",
    "\n",
    "    prompt = f'Write a detailed blog on the title - {title} using the follwing outline \\n {outline}'\n",
    "\n",
    "    content = model.invoke(prompt).content\n",
    "\n",
    "    state['content'] = content\n",
    "\n",
    "    return state"
   ]
  },
  {
   "cell_type": "code",
   "execution_count": 30,
   "id": "c3af3a2c",
   "metadata": {},
   "outputs": [],
   "source": [
    "def evaluate_blog(state: BlogState) -> BlogState:\n",
    "    title = state['title']\n",
    "    outline = state['outline']\n",
    "    content = state['content']\n",
    "\n",
    "    prompt = f'Based on {outline} Rate my \\n {content} and generate a integer'\n",
    "\n",
    "    evaluate = model.invoke(prompt).content\n",
    "\n",
    "    state['evaluate'] = evaluate\n",
    "\n",
    "    return state"
   ]
  },
  {
   "cell_type": "code",
   "execution_count": 31,
   "id": "38bcaad8",
   "metadata": {},
   "outputs": [],
   "source": [
    "# define graph\n",
    "graph = StateGraph(BlogState)\n",
    "\n",
    "# nodes\n",
    "graph.add_node('create_outline', create_outline)\n",
    "graph.add_node('create_blog', create_blog)\n",
    "graph.add_node('evaluate_blog', evaluate_blog)\n",
    "\n",
    "# edges\n",
    "graph.add_edge(START, 'create_outline')\n",
    "graph.add_edge('create_outline', 'create_blog')\n",
    "graph.add_edge('create_blog', 'evaluate_blog')\n",
    "graph.add_edge('evaluate_blog', END)\n",
    "\n",
    "# compile\n",
    "workflow = graph.compile()"
   ]
  },
  {
   "cell_type": "code",
   "execution_count": 32,
   "id": "2d895994",
   "metadata": {},
   "outputs": [
    {
     "name": "stdout",
     "output_type": "stream",
     "text": [
      "{'title': 'Rise of AI in Pakistan', 'outline': 'Here\\'s a detailed outline for a blog on the topic \"Rise of AI in Pakistan\":\\n\\n**I. Introduction**\\n\\n* Brief overview of Artificial Intelligence (AI) and its global impact\\n* Importance of AI in the modern world\\n* Context of AI in Pakistan: current state and future prospects\\n* Thesis statement: Pakistan is witnessing a significant rise in AI adoption, with various industries and sectors leveraging its potential to drive growth and innovation.\\n\\n**II. Current State of AI in Pakistan**\\n\\n* Overview of Pakistan\\'s IT industry and its growth over the years\\n* Existing AI-related initiatives and projects in Pakistan, such as:\\n\\t+ National Center of Artificial Intelligence (NCAI)\\n\\t+ Pakistan\\'s first AI-powered chatbot, \"Rahnuma\"\\n\\t+ AI-powered healthcare solutions, such as \"Sehat Kahani\"\\n* Current challenges and limitations facing AI adoption in Pakistan, including:\\n\\t+ Limited infrastructure and resources\\n\\t+ Brain drain and lack of skilled professionals\\n\\t+ Regulatory frameworks and data protection concerns\\n\\n**III. Key Industries Driving AI Adoption in Pakistan**\\n\\n* **Healthcare**: AI-powered diagnosis, telemedicine, and personalized medicine\\n\\t+ Examples: Sehat Kahani, doctHERs, and Marham\\n* **Finance and Banking**: AI-powered fraud detection, credit scoring, and customer service\\n\\t+ Examples: HBL\\'s AI-powered chatbot, UBL\\'s digital banking platform\\n* **Education**: AI-powered adaptive learning, intelligent tutoring systems, and automated grading\\n\\t+ Examples: Sabaq, Taleemabad, and Ilm Ki Dunya\\n* **Agriculture**: AI-powered precision farming, crop monitoring, and yield prediction\\n\\t+ Examples: FarmDrive, AgriHub, and Pakistan Agricultural Research Council (PARC)\\n\\n**IV. Startups and Innovators Leading the AI Charge in Pakistan**\\n\\n* Overview of Pakistan\\'s startup ecosystem and its growth\\n* Examples of AI-focused startups in Pakistan, such as:\\n\\t+ AbacusConsulting\\'s AI-powered consulting services\\n\\t+ 10Pearls\\' AI-powered software development\\n\\t+ Telemart\\'s AI-powered e-commerce platform\\n* Success stories and case studies of AI adoption in Pakistani startups\\n\\n**V. Government Initiatives and Support for AI in Pakistan**\\n\\n* Overview of government initiatives and policies supporting AI adoption, such as:\\n\\t+ Ministry of IT and Telecommunication\\'s AI policy\\n\\t+ Pakistan Software Export Board\\'s (PSEB) AI-focused initiatives\\n\\t+ Higher Education Commission\\'s (HEC) AI-related research grants\\n* Examples of government-funded AI projects and initiatives, such as:\\n\\t+ National Center of Artificial Intelligence (NCAI)\\n\\t+ Pakistan AI Research Center (PARC)\\n\\n**VI. Challenges and Future Directions**\\n\\n* Discussion of challenges facing AI adoption in Pakistan, including:\\n\\t+ Data quality and availability\\n\\t+ Cybersecurity concerns\\n\\t+ Job displacement and workforce upskilling\\n* Future directions and opportunities for AI in Pakistan, including:\\n\\t+ Increased focus on AI education and research\\n\\t+ Development of AI-powered solutions for social impact\\n\\t+ Collaboration between industry, academia, and government to drive AI adoption\\n\\n**VII. Conclusion**\\n\\n* Recap of the rise of AI in Pakistan and its potential impact on various industries\\n* Call to action for stakeholders, including government, industry, and academia, to support and drive AI adoption in Pakistan\\n* Final thoughts and predictions for the future of AI in Pakistan.\\n\\nThis outline provides a comprehensive framework for exploring the rise of AI in Pakistan, covering current state, key industries, startups, government initiatives, challenges, and future directions.', 'content': '**The Rise of AI in Pakistan: A New Era of Growth and Innovation**\\n\\nArtificial Intelligence (AI) has revolutionized the world, transforming the way we live, work, and interact with each other. From virtual assistants to self-driving cars, AI has made a significant impact on various industries and aspects of our lives. In recent years, Pakistan has also witnessed a significant rise in AI adoption, with various industries and sectors leveraging its potential to drive growth and innovation. In this blog, we will explore the current state of AI in Pakistan, key industries driving its adoption, startups and innovators leading the charge, government initiatives and support, challenges, and future directions.\\n\\n**Current State of AI in Pakistan**\\n\\nPakistan\\'s IT industry has experienced tremendous growth over the years, with a significant increase in software exports and a thriving startup ecosystem. The country has also made notable progress in AI research and development, with several initiatives and projects underway. The National Center of Artificial Intelligence (NCAI) is one such initiative, which aims to promote AI research and development in Pakistan. Additionally, Pakistan\\'s first AI-powered chatbot, \"Rahnuma,\" has been launched to provide citizens with easy access to government services.\\n\\nMoreover, AI-powered healthcare solutions, such as \"Sehat Kahani,\" are being developed to improve healthcare outcomes and increase access to medical services. However, despite these advancements, Pakistan still faces significant challenges in AI adoption, including limited infrastructure and resources, brain drain, and lack of skilled professionals. Regulatory frameworks and data protection concerns are also major hurdles that need to be addressed.\\n\\n**Key Industries Driving AI Adoption in Pakistan**\\n\\nSeveral industries in Pakistan are driving AI adoption, including healthcare, finance and banking, education, and agriculture. In the healthcare sector, AI-powered diagnosis, telemedicine, and personalized medicine are being developed to improve healthcare outcomes. Companies like Sehat Kahani, doctHERs, and Marham are using AI to provide high-quality healthcare services to patients.\\n\\nIn the finance and banking sector, AI-powered fraud detection, credit scoring, and customer service are being used to enhance customer experience and reduce risks. HBL\\'s AI-powered chatbot and UBL\\'s digital banking platform are examples of how banks are leveraging AI to improve their services. In the education sector, AI-powered adaptive learning, intelligent tutoring systems, and automated grading are being developed to improve learning outcomes. Companies like Sabaq, Taleemabad, and Ilm Ki Dunya are using AI to provide personalized learning experiences to students.\\n\\nIn the agriculture sector, AI-powered precision farming, crop monitoring, and yield prediction are being used to improve crop yields and reduce waste. Companies like FarmDrive, AgriHub, and Pakistan Agricultural Research Council (PARC) are using AI to provide farmers with data-driven insights to improve their farming practices.\\n\\n**Startups and Innovators Leading the AI Charge in Pakistan**\\n\\nPakistan\\'s startup ecosystem is thriving, with several AI-focused startups emerging in recent years. Companies like AbacusConsulting, 10Pearls, and Telemart are using AI to provide innovative solutions to customers. AbacusConsulting\\'s AI-powered consulting services are helping businesses to make data-driven decisions, while 10Pearls\\' AI-powered software development is enabling companies to build innovative software solutions. Telemart\\'s AI-powered e-commerce platform is providing customers with personalized shopping experiences.\\n\\nSuccess stories and case studies of AI adoption in Pakistani startups are numerous. For example, a Pakistani startup used AI to develop a chatbot that helped customers to track their packages and receive updates on delivery status. Another startup used AI to develop a platform that connected farmers with buyers, enabling them to sell their produce at better prices.\\n\\n**Government Initiatives and Support for AI in Pakistan**\\n\\nThe government of Pakistan has launched several initiatives to support AI adoption in the country. The Ministry of IT and Telecommunication has developed an AI policy that aims to promote AI research and development in Pakistan. The Pakistan Software Export Board (PSEB) has also launched AI-focused initiatives to support the growth of AI startups in the country. The Higher Education Commission (HEC) has provided research grants to universities to develop AI-related research projects.\\n\\nThe government has also funded several AI projects, including the National Center of Artificial Intelligence (NCAI) and the Pakistan AI Research Center (PARC). These initiatives are aimed at promoting AI research and development in Pakistan and providing support to AI startups and innovators.\\n\\n**Challenges and Future Directions**\\n\\nDespite the progress made in AI adoption in Pakistan, several challenges remain. Data quality and availability are major concerns, as AI algorithms require high-quality data to function effectively. Cybersecurity concerns are also significant, as AI systems can be vulnerable to cyber threats. Job displacement and workforce upskilling are also major challenges, as AI automation can displace certain jobs and require workers to acquire new skills.\\n\\nTo address these challenges, the government, industry, and academia must work together to develop strategies that promote AI adoption and address its challenges. Increased focus on AI education and research is necessary to develop a skilled workforce that can work with AI systems. Development of AI-powered solutions for social impact is also crucial, as AI can be used to address pressing social challenges such as healthcare, education, and poverty.\\n\\n**Conclusion**\\n\\nThe rise of AI in Pakistan is a significant development that has the potential to transform various industries and aspects of our lives. While challenges remain, the government, industry, and academia must work together to support and drive AI adoption in the country. By leveraging AI, Pakistan can drive growth, innovation, and social impact, and become a leader in the region. As we move forward, it is essential to prioritize AI education and research, develop AI-powered solutions for social impact, and address the challenges that come with AI adoption. With the right strategies and support, Pakistan can unlock the full potential of AI and create a brighter future for its citizens.', 'evaluate': \"I would rate this blog outline and content as a 9 out of 10. Here's a breakdown of the strengths and weaknesses:\\n\\nStrengths:\\n\\n1. **Comprehensive outline**: The outline provides a clear and detailed structure for the blog, covering all the necessary aspects of the topic.\\n2. **Well-researched content**: The blog content is well-researched, with specific examples and case studies that illustrate the current state of AI in Pakistan.\\n3. **Industry-specific analysis**: The blog provides a detailed analysis of key industries driving AI adoption in Pakistan, including healthcare, finance, education, and agriculture.\\n4. **Government initiatives and support**: The blog highlights the government's initiatives and support for AI adoption in Pakistan, which is essential for driving growth and innovation.\\n5. **Challenges and future directions**: The blog discusses the challenges facing AI adoption in Pakistan and provides future directions for addressing these challenges.\\n\\nWeaknesses:\\n\\n1. **Length and complexity**: The blog is quite lengthy and complex, which may make it challenging for some readers to follow.\\n2. **Lack of visual aids**: The blog could benefit from visual aids such as images, charts, or infographics to break up the text and illustrate key points.\\n3. **Limited international perspective**: The blog focuses primarily on Pakistan's AI landscape, with limited comparison to other countries or regions.\\n4. **No clear call to action**: While the blog provides a comprehensive overview of AI in Pakistan, it does not include a clear call to action for readers or stakeholders.\\n\\nTo improve the blog, I would suggest:\\n\\n1. **Breaking up the content**: Consider breaking up the blog into smaller, more manageable sections or even separate blog posts.\\n2. **Adding visual aids**: Incorporate images, charts, or infographics to illustrate key points and make the content more engaging.\\n3. **Providing international context**: Consider adding an international perspective to the blog, highlighting how Pakistan's AI landscape compares to other countries or regions.\\n4. **Including a clear call to action**: Add a clear call to action for readers or stakeholders, outlining specific steps they can take to support AI adoption in Pakistan.\\n\\nGenerated integer: 9\"}\n"
     ]
    }
   ],
   "source": [
    "# execute\n",
    "initial_state = {'title': 'Rise of AI in Pakistan'}\n",
    "final_state = workflow.invoke(initial_state)\n",
    "print(final_state)"
   ]
  },
  {
   "cell_type": "code",
   "execution_count": 33,
   "id": "9082452c",
   "metadata": {},
   "outputs": [
    {
     "name": "stdout",
     "output_type": "stream",
     "text": [
      "Rise of AI in Pakistan\n"
     ]
    }
   ],
   "source": [
    "print(final_state['title'])"
   ]
  },
  {
   "cell_type": "code",
   "execution_count": 34,
   "id": "8988c3f0",
   "metadata": {},
   "outputs": [
    {
     "name": "stdout",
     "output_type": "stream",
     "text": [
      "Here's a detailed outline for a blog on the topic \"Rise of AI in Pakistan\":\n",
      "\n",
      "**I. Introduction**\n",
      "\n",
      "* Brief overview of Artificial Intelligence (AI) and its global impact\n",
      "* Importance of AI in the modern world\n",
      "* Context of AI in Pakistan: current state and future prospects\n",
      "* Thesis statement: Pakistan is witnessing a significant rise in AI adoption, with various industries and sectors leveraging its potential to drive growth and innovation.\n",
      "\n",
      "**II. Current State of AI in Pakistan**\n",
      "\n",
      "* Overview of Pakistan's IT industry and its growth over the years\n",
      "* Existing AI-related initiatives and projects in Pakistan, such as:\n",
      "\t+ National Center of Artificial Intelligence (NCAI)\n",
      "\t+ Pakistan's first AI-powered chatbot, \"Rahnuma\"\n",
      "\t+ AI-powered healthcare solutions, such as \"Sehat Kahani\"\n",
      "* Current challenges and limitations facing AI adoption in Pakistan, including:\n",
      "\t+ Limited infrastructure and resources\n",
      "\t+ Brain drain and lack of skilled professionals\n",
      "\t+ Regulatory frameworks and data protection concerns\n",
      "\n",
      "**III. Key Industries Driving AI Adoption in Pakistan**\n",
      "\n",
      "* **Healthcare**: AI-powered diagnosis, telemedicine, and personalized medicine\n",
      "\t+ Examples: Sehat Kahani, doctHERs, and Marham\n",
      "* **Finance and Banking**: AI-powered fraud detection, credit scoring, and customer service\n",
      "\t+ Examples: HBL's AI-powered chatbot, UBL's digital banking platform\n",
      "* **Education**: AI-powered adaptive learning, intelligent tutoring systems, and automated grading\n",
      "\t+ Examples: Sabaq, Taleemabad, and Ilm Ki Dunya\n",
      "* **Agriculture**: AI-powered precision farming, crop monitoring, and yield prediction\n",
      "\t+ Examples: FarmDrive, AgriHub, and Pakistan Agricultural Research Council (PARC)\n",
      "\n",
      "**IV. Startups and Innovators Leading the AI Charge in Pakistan**\n",
      "\n",
      "* Overview of Pakistan's startup ecosystem and its growth\n",
      "* Examples of AI-focused startups in Pakistan, such as:\n",
      "\t+ AbacusConsulting's AI-powered consulting services\n",
      "\t+ 10Pearls' AI-powered software development\n",
      "\t+ Telemart's AI-powered e-commerce platform\n",
      "* Success stories and case studies of AI adoption in Pakistani startups\n",
      "\n",
      "**V. Government Initiatives and Support for AI in Pakistan**\n",
      "\n",
      "* Overview of government initiatives and policies supporting AI adoption, such as:\n",
      "\t+ Ministry of IT and Telecommunication's AI policy\n",
      "\t+ Pakistan Software Export Board's (PSEB) AI-focused initiatives\n",
      "\t+ Higher Education Commission's (HEC) AI-related research grants\n",
      "* Examples of government-funded AI projects and initiatives, such as:\n",
      "\t+ National Center of Artificial Intelligence (NCAI)\n",
      "\t+ Pakistan AI Research Center (PARC)\n",
      "\n",
      "**VI. Challenges and Future Directions**\n",
      "\n",
      "* Discussion of challenges facing AI adoption in Pakistan, including:\n",
      "\t+ Data quality and availability\n",
      "\t+ Cybersecurity concerns\n",
      "\t+ Job displacement and workforce upskilling\n",
      "* Future directions and opportunities for AI in Pakistan, including:\n",
      "\t+ Increased focus on AI education and research\n",
      "\t+ Development of AI-powered solutions for social impact\n",
      "\t+ Collaboration between industry, academia, and government to drive AI adoption\n",
      "\n",
      "**VII. Conclusion**\n",
      "\n",
      "* Recap of the rise of AI in Pakistan and its potential impact on various industries\n",
      "* Call to action for stakeholders, including government, industry, and academia, to support and drive AI adoption in Pakistan\n",
      "* Final thoughts and predictions for the future of AI in Pakistan.\n",
      "\n",
      "This outline provides a comprehensive framework for exploring the rise of AI in Pakistan, covering current state, key industries, startups, government initiatives, challenges, and future directions.\n"
     ]
    }
   ],
   "source": [
    "print(final_state['outline'])"
   ]
  },
  {
   "cell_type": "code",
   "execution_count": 35,
   "id": "0738b06d",
   "metadata": {},
   "outputs": [
    {
     "name": "stdout",
     "output_type": "stream",
     "text": [
      "**The Rise of AI in Pakistan: A New Era of Growth and Innovation**\n",
      "\n",
      "Artificial Intelligence (AI) has revolutionized the world, transforming the way we live, work, and interact with each other. From virtual assistants to self-driving cars, AI has made a significant impact on various industries and aspects of our lives. In recent years, Pakistan has also witnessed a significant rise in AI adoption, with various industries and sectors leveraging its potential to drive growth and innovation. In this blog, we will explore the current state of AI in Pakistan, key industries driving its adoption, startups and innovators leading the charge, government initiatives and support, challenges, and future directions.\n",
      "\n",
      "**Current State of AI in Pakistan**\n",
      "\n",
      "Pakistan's IT industry has experienced tremendous growth over the years, with a significant increase in software exports and a thriving startup ecosystem. The country has also made notable progress in AI research and development, with several initiatives and projects underway. The National Center of Artificial Intelligence (NCAI) is one such initiative, which aims to promote AI research and development in Pakistan. Additionally, Pakistan's first AI-powered chatbot, \"Rahnuma,\" has been launched to provide citizens with easy access to government services.\n",
      "\n",
      "Moreover, AI-powered healthcare solutions, such as \"Sehat Kahani,\" are being developed to improve healthcare outcomes and increase access to medical services. However, despite these advancements, Pakistan still faces significant challenges in AI adoption, including limited infrastructure and resources, brain drain, and lack of skilled professionals. Regulatory frameworks and data protection concerns are also major hurdles that need to be addressed.\n",
      "\n",
      "**Key Industries Driving AI Adoption in Pakistan**\n",
      "\n",
      "Several industries in Pakistan are driving AI adoption, including healthcare, finance and banking, education, and agriculture. In the healthcare sector, AI-powered diagnosis, telemedicine, and personalized medicine are being developed to improve healthcare outcomes. Companies like Sehat Kahani, doctHERs, and Marham are using AI to provide high-quality healthcare services to patients.\n",
      "\n",
      "In the finance and banking sector, AI-powered fraud detection, credit scoring, and customer service are being used to enhance customer experience and reduce risks. HBL's AI-powered chatbot and UBL's digital banking platform are examples of how banks are leveraging AI to improve their services. In the education sector, AI-powered adaptive learning, intelligent tutoring systems, and automated grading are being developed to improve learning outcomes. Companies like Sabaq, Taleemabad, and Ilm Ki Dunya are using AI to provide personalized learning experiences to students.\n",
      "\n",
      "In the agriculture sector, AI-powered precision farming, crop monitoring, and yield prediction are being used to improve crop yields and reduce waste. Companies like FarmDrive, AgriHub, and Pakistan Agricultural Research Council (PARC) are using AI to provide farmers with data-driven insights to improve their farming practices.\n",
      "\n",
      "**Startups and Innovators Leading the AI Charge in Pakistan**\n",
      "\n",
      "Pakistan's startup ecosystem is thriving, with several AI-focused startups emerging in recent years. Companies like AbacusConsulting, 10Pearls, and Telemart are using AI to provide innovative solutions to customers. AbacusConsulting's AI-powered consulting services are helping businesses to make data-driven decisions, while 10Pearls' AI-powered software development is enabling companies to build innovative software solutions. Telemart's AI-powered e-commerce platform is providing customers with personalized shopping experiences.\n",
      "\n",
      "Success stories and case studies of AI adoption in Pakistani startups are numerous. For example, a Pakistani startup used AI to develop a chatbot that helped customers to track their packages and receive updates on delivery status. Another startup used AI to develop a platform that connected farmers with buyers, enabling them to sell their produce at better prices.\n",
      "\n",
      "**Government Initiatives and Support for AI in Pakistan**\n",
      "\n",
      "The government of Pakistan has launched several initiatives to support AI adoption in the country. The Ministry of IT and Telecommunication has developed an AI policy that aims to promote AI research and development in Pakistan. The Pakistan Software Export Board (PSEB) has also launched AI-focused initiatives to support the growth of AI startups in the country. The Higher Education Commission (HEC) has provided research grants to universities to develop AI-related research projects.\n",
      "\n",
      "The government has also funded several AI projects, including the National Center of Artificial Intelligence (NCAI) and the Pakistan AI Research Center (PARC). These initiatives are aimed at promoting AI research and development in Pakistan and providing support to AI startups and innovators.\n",
      "\n",
      "**Challenges and Future Directions**\n",
      "\n",
      "Despite the progress made in AI adoption in Pakistan, several challenges remain. Data quality and availability are major concerns, as AI algorithms require high-quality data to function effectively. Cybersecurity concerns are also significant, as AI systems can be vulnerable to cyber threats. Job displacement and workforce upskilling are also major challenges, as AI automation can displace certain jobs and require workers to acquire new skills.\n",
      "\n",
      "To address these challenges, the government, industry, and academia must work together to develop strategies that promote AI adoption and address its challenges. Increased focus on AI education and research is necessary to develop a skilled workforce that can work with AI systems. Development of AI-powered solutions for social impact is also crucial, as AI can be used to address pressing social challenges such as healthcare, education, and poverty.\n",
      "\n",
      "**Conclusion**\n",
      "\n",
      "The rise of AI in Pakistan is a significant development that has the potential to transform various industries and aspects of our lives. While challenges remain, the government, industry, and academia must work together to support and drive AI adoption in the country. By leveraging AI, Pakistan can drive growth, innovation, and social impact, and become a leader in the region. As we move forward, it is essential to prioritize AI education and research, develop AI-powered solutions for social impact, and address the challenges that come with AI adoption. With the right strategies and support, Pakistan can unlock the full potential of AI and create a brighter future for its citizens.\n"
     ]
    }
   ],
   "source": [
    "print(final_state['content'])"
   ]
  },
  {
   "cell_type": "code",
   "execution_count": 36,
   "id": "c3f99048",
   "metadata": {},
   "outputs": [
    {
     "name": "stdout",
     "output_type": "stream",
     "text": [
      "I would rate this blog outline and content as a 9 out of 10. Here's a breakdown of the strengths and weaknesses:\n",
      "\n",
      "Strengths:\n",
      "\n",
      "1. **Comprehensive outline**: The outline provides a clear and detailed structure for the blog, covering all the necessary aspects of the topic.\n",
      "2. **Well-researched content**: The blog content is well-researched, with specific examples and case studies that illustrate the current state of AI in Pakistan.\n",
      "3. **Industry-specific analysis**: The blog provides a detailed analysis of key industries driving AI adoption in Pakistan, including healthcare, finance, education, and agriculture.\n",
      "4. **Government initiatives and support**: The blog highlights the government's initiatives and support for AI adoption in Pakistan, which is essential for driving growth and innovation.\n",
      "5. **Challenges and future directions**: The blog discusses the challenges facing AI adoption in Pakistan and provides future directions for addressing these challenges.\n",
      "\n",
      "Weaknesses:\n",
      "\n",
      "1. **Length and complexity**: The blog is quite lengthy and complex, which may make it challenging for some readers to follow.\n",
      "2. **Lack of visual aids**: The blog could benefit from visual aids such as images, charts, or infographics to break up the text and illustrate key points.\n",
      "3. **Limited international perspective**: The blog focuses primarily on Pakistan's AI landscape, with limited comparison to other countries or regions.\n",
      "4. **No clear call to action**: While the blog provides a comprehensive overview of AI in Pakistan, it does not include a clear call to action for readers or stakeholders.\n",
      "\n",
      "To improve the blog, I would suggest:\n",
      "\n",
      "1. **Breaking up the content**: Consider breaking up the blog into smaller, more manageable sections or even separate blog posts.\n",
      "2. **Adding visual aids**: Incorporate images, charts, or infographics to illustrate key points and make the content more engaging.\n",
      "3. **Providing international context**: Consider adding an international perspective to the blog, highlighting how Pakistan's AI landscape compares to other countries or regions.\n",
      "4. **Including a clear call to action**: Add a clear call to action for readers or stakeholders, outlining specific steps they can take to support AI adoption in Pakistan.\n",
      "\n",
      "Generated integer: 9\n"
     ]
    }
   ],
   "source": [
    "print(final_state['evaluate'])"
   ]
  },
  {
   "cell_type": "code",
   "execution_count": 37,
   "id": "bf17d213",
   "metadata": {},
   "outputs": [
    {
     "data": {
      "image/png": "[encoded data removed]",
      "text/plain": [
       "<IPython.core.display.Image object>"
      ]
     },
     "execution_count": 37,
     "metadata": {},
     "output_type": "execute_result"
    }
   ],
   "source": [
    "Image(workflow.get_graph().draw_mermaid_png())"
   ]
  },
  {
   "cell_type": "code",
   "execution_count": null,
   "id": "d3c2ce6f",
   "metadata": {},
   "outputs": [],
   "source": []
  }
 ],
 "metadata": {
  "kernelspec": {
   "display_name": "Python 3",
   "language": "python",
   "name": "python3"
  },
  "language_info": {
   "codemirror_mode": {
    "name": "ipython",
    "version": 3
   },
   "file_extension": ".py",
   "mimetype": "text/x-python",
   "name": "python",
   "nbconvert_exporter": "python",
   "pygments_lexer": "ipython3",
   "version": "3.11.9"
  }
 },
 "nbformat": 4,
 "nbformat_minor": 5
}
